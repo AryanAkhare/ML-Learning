{
 "cells": [
  {
   "cell_type": "markdown",
   "id": "9ec565ad-5bc7-4214-b01e-a5756b868aba",
   "metadata": {},
   "source": [
    "**Tensors**"
   ]
  },
  {
   "cell_type": "code",
   "execution_count": 1,
   "id": "cbf4696a-106b-484e-b068-71efd416bae3",
   "metadata": {},
   "outputs": [
    {
     "name": "stdout",
     "output_type": "stream",
     "text": [
      "0\n"
     ]
    }
   ],
   "source": [
    "import numpy as np\n",
    "#dimensions\n",
    "a=np.array(4)\n",
    "print(a.ndim)"
   ]
  },
  {
   "cell_type": "code",
   "execution_count": 2,
   "id": "5c017567-2ff6-4be1-95d0-86a9ade6391a",
   "metadata": {},
   "outputs": [
    {
     "name": "stdout",
     "output_type": "stream",
     "text": [
      "1\n"
     ]
    }
   ],
   "source": [
    "a=np.array([4,12,12,31])\n",
    "print(a.ndim)"
   ]
  },
  {
   "cell_type": "code",
   "execution_count": 3,
   "id": "54f7e9bc-9fc9-47de-9c61-352dac2664de",
   "metadata": {},
   "outputs": [
    {
     "name": "stdout",
     "output_type": "stream",
     "text": [
      "2\n",
      "(2, 3)\n",
      "6\n",
      "8\n"
     ]
    }
   ],
   "source": [
    "a=np.array(([4,12,12],[13,13,41]))\n",
    "print(a.ndim)\n",
    "#shape\n",
    "print(a.shape) \n",
    "print(a.size) #rows * cols\n",
    "print(a.itemsize)"
   ]
  },
  {
   "cell_type": "markdown",
   "id": "d6493095-315b-4c26-b024-f3e19933e721",
   "metadata": {},
   "source": [
    "**Basics**"
   ]
  },
  {
   "cell_type": "code",
   "execution_count": 4,
   "id": "96c0e156-499e-4fb6-af68-9d37444a778f",
   "metadata": {},
   "outputs": [
    {
     "name": "stdout",
     "output_type": "stream",
     "text": [
      "[[  1   2  34   5   3 243]\n",
      " [  1   2  34   5   3 245]]\n"
     ]
    }
   ],
   "source": [
    "a=np.array([[1,2,34,5,3,243],[1,2,34,5,3,245]])\n",
    "print(a)"
   ]
  },
  {
   "cell_type": "code",
   "execution_count": 5,
   "id": "4bd68d74-00be-4fc2-9bbb-2bcef66e264c",
   "metadata": {},
   "outputs": [
    {
     "data": {
      "text/plain": [
       "np.int64(245)"
      ]
     },
     "execution_count": 5,
     "metadata": {},
     "output_type": "execute_result"
    }
   ],
   "source": [
    "#Get specific element [r,c]\n",
    "a[1,5]"
   ]
  },
  {
   "cell_type": "code",
   "execution_count": 6,
   "id": "0a7b5205-799e-4119-b38c-579d97c18d29",
   "metadata": {},
   "outputs": [
    {
     "data": {
      "text/plain": [
       "array([  1,   2,  34,   5,   3, 243])"
      ]
     },
     "execution_count": 6,
     "metadata": {},
     "output_type": "execute_result"
    }
   ],
   "source": [
    "#Get specifc row\n",
    "a[0,:]"
   ]
  },
  {
   "cell_type": "code",
   "execution_count": 7,
   "id": "f2015fad-9893-4012-a4f2-ab6cf1c689b5",
   "metadata": {},
   "outputs": [
    {
     "data": {
      "text/plain": [
       "array([2, 2])"
      ]
     },
     "execution_count": 7,
     "metadata": {},
     "output_type": "execute_result"
    }
   ],
   "source": [
    "#Get specific col\n",
    "a[:,1]"
   ]
  },
  {
   "cell_type": "code",
   "execution_count": 8,
   "id": "ee96bd0a-9475-4b70-9ce2-4be721dca41b",
   "metadata": {},
   "outputs": [
    {
     "data": {
      "text/plain": [
       "array([  2,   5, 243])"
      ]
     },
     "execution_count": 8,
     "metadata": {},
     "output_type": "execute_result"
    }
   ],
   "source": [
    "#Gettting [start:end:stepsize]\n",
    "a[0,1:6:2]"
   ]
  },
  {
   "cell_type": "markdown",
   "id": "8ded0c5f-fb65-47af-8b1e-832cc52def34",
   "metadata": {},
   "source": [
    "**3-D example**"
   ]
  },
  {
   "cell_type": "code",
   "execution_count": 9,
   "id": "1ce7a361-25d9-4824-a8c5-ae509b7b8576",
   "metadata": {},
   "outputs": [
    {
     "data": {
      "text/plain": [
       "array([[[ 1,  2,  3],\n",
       "        [ 4,  5,  6]],\n",
       "\n",
       "       [[12, 23, 45],\n",
       "        [67, 78, 89]]])"
      ]
     },
     "execution_count": 9,
     "metadata": {},
     "output_type": "execute_result"
    }
   ],
   "source": [
    "arr=np.array([[[1,2,3],[4,5,6]],[[12,23,45],[67,78,89]]])\n",
    "arr"
   ]
  },
  {
   "cell_type": "code",
   "execution_count": 10,
   "id": "9d3d13e8-7acb-4e3b-bce9-1f6904e66a0f",
   "metadata": {},
   "outputs": [
    {
     "data": {
      "text/plain": [
       "np.int64(6)"
      ]
     },
     "execution_count": 10,
     "metadata": {},
     "output_type": "execute_result"
    }
   ],
   "source": [
    "#say access 6 , work outside out [3d row num , 2d row , 2d col]\n",
    "arr[0,1,2]\n"
   ]
  },
  {
   "cell_type": "markdown",
   "id": "fd047bd1-664e-4f08-97c0-09b4b6003144",
   "metadata": {},
   "source": [
    "**Initializing Different Types of Arrays**\n"
   ]
  },
  {
   "cell_type": "code",
   "execution_count": 11,
   "id": "a3cac937-69cc-431d-bdbe-9142b3632efa",
   "metadata": {},
   "outputs": [
    {
     "data": {
      "text/plain": [
       "array([[0., 0., 0.],\n",
       "       [0., 0., 0.],\n",
       "       [0., 0., 0.]])"
      ]
     },
     "execution_count": 11,
     "metadata": {},
     "output_type": "execute_result"
    }
   ],
   "source": [
    "#All 0 matrix\n",
    "np.zeros((3,3))"
   ]
  },
  {
   "cell_type": "code",
   "execution_count": 12,
   "id": "963500c2-9955-4db4-91a4-a7c741872e5b",
   "metadata": {},
   "outputs": [
    {
     "data": {
      "text/plain": [
       "array([[[1, 1, 1],\n",
       "        [1, 1, 1],\n",
       "        [1, 1, 1]],\n",
       "\n",
       "       [[1, 1, 1],\n",
       "        [1, 1, 1],\n",
       "        [1, 1, 1]]], dtype=int32)"
      ]
     },
     "execution_count": 12,
     "metadata": {},
     "output_type": "execute_result"
    }
   ],
   "source": [
    "#All 1 matrix\n",
    "np.ones((2,3,3),dtype='int32')"
   ]
  },
  {
   "cell_type": "code",
   "execution_count": 13,
   "id": "43cc4d88-167e-4389-8ff4-6aa9afacb76e",
   "metadata": {},
   "outputs": [
    {
     "data": {
      "text/plain": [
       "array([[100, 100],\n",
       "       [100, 100]])"
      ]
     },
     "execution_count": 13,
     "metadata": {},
     "output_type": "execute_result"
    }
   ],
   "source": [
    "#Any other number\n",
    "np.full((2,2),100)"
   ]
  },
  {
   "cell_type": "code",
   "execution_count": 14,
   "id": "6e21b269-0c84-4347-8d21-b904d12befe5",
   "metadata": {},
   "outputs": [
    {
     "data": {
      "text/plain": [
       "(2, 2, 3)"
      ]
     },
     "execution_count": 14,
     "metadata": {},
     "output_type": "execute_result"
    }
   ],
   "source": [
    "barr=np.array([[[1,2,3],[1,32,123]],[[2,5,6],[6,7,2]]])\n",
    "barr.shape"
   ]
  },
  {
   "cell_type": "code",
   "execution_count": 15,
   "id": "8ff1a96a-1887-43df-a8b9-b1f7aa2ca170",
   "metadata": {},
   "outputs": [
    {
     "data": {
      "text/plain": [
       "array([[[56, 56, 56],\n",
       "        [56, 56, 56]],\n",
       "\n",
       "       [[56, 56, 56],\n",
       "        [56, 56, 56]]])"
      ]
     },
     "execution_count": 15,
     "metadata": {},
     "output_type": "execute_result"
    }
   ],
   "source": [
    "#Using existing array to change all elements to 56\n",
    "np.full_like(barr,56)"
   ]
  },
  {
   "cell_type": "code",
   "execution_count": 16,
   "id": "353fe58b-a320-4c96-8dfc-7b0391b822ae",
   "metadata": {},
   "outputs": [
    {
     "data": {
      "text/plain": [
       "array([[0.11155024, 0.59983767],\n",
       "       [0.31934882, 0.68597204],\n",
       "       [0.43824464, 0.67989697],\n",
       "       [0.8746519 , 0.1472428 ]])"
      ]
     },
     "execution_count": 16,
     "metadata": {},
     "output_type": "execute_result"
    }
   ],
   "source": [
    "#Random decimal Numbers between 0 and 1\n",
    "np.random.rand(4,2)"
   ]
  },
  {
   "cell_type": "code",
   "execution_count": 17,
   "id": "075674a8-f8b9-4b79-a40f-261512846903",
   "metadata": {},
   "outputs": [
    {
     "data": {
      "text/plain": [
       "array([[4, 6, 6],\n",
       "       [5, 6, 4],\n",
       "       [6, 4, 5]], dtype=int32)"
      ]
     },
     "execution_count": 17,
     "metadata": {},
     "output_type": "execute_result"
    }
   ],
   "source": [
    "#Random Integers 4 to 7 , in size 3*3\n",
    "np.random.randint(4,7,size=(3,3))"
   ]
  },
  {
   "cell_type": "code",
   "execution_count": 18,
   "id": "4d5f98d9-2064-4f21-a820-229d803d6f23",
   "metadata": {},
   "outputs": [
    {
     "data": {
      "text/plain": [
       "array([[1, 0, 0, 0],\n",
       "       [0, 1, 0, 0],\n",
       "       [0, 0, 1, 0],\n",
       "       [0, 0, 0, 1]], dtype=int32)"
      ]
     },
     "execution_count": 18,
     "metadata": {},
     "output_type": "execute_result"
    }
   ],
   "source": [
    "#Identity matrix\n",
    "np.identity(4,dtype='int32')"
   ]
  },
  {
   "cell_type": "markdown",
   "id": "98b4ec5e-a5ce-4041-8860-f7ad7efd17da",
   "metadata": {},
   "source": [
    "**Creating a matrix using these operations**"
   ]
  },
  {
   "cell_type": "code",
   "execution_count": 19,
   "id": "d682dc29-2701-40ad-ad91-4aab0aa3d955",
   "metadata": {},
   "outputs": [
    {
     "data": {
      "text/plain": [
       "array([[1, 1, 1, 1, 1],\n",
       "       [1, 1, 1, 1, 1],\n",
       "       [1, 1, 1, 1, 1],\n",
       "       [1, 1, 1, 1, 1],\n",
       "       [1, 1, 1, 1, 1]], dtype=int32)"
      ]
     },
     "execution_count": 19,
     "metadata": {},
     "output_type": "execute_result"
    }
   ],
   "source": [
    "out=np.ones((5,5),dtype='int32')\n",
    "out"
   ]
  },
  {
   "cell_type": "code",
   "execution_count": 20,
   "id": "56f5ff30-2234-4b58-9c26-a0ae6e306d12",
   "metadata": {},
   "outputs": [
    {
     "data": {
      "text/plain": [
       "array([[0, 0, 0],\n",
       "       [0, 9, 0],\n",
       "       [0, 0, 0]], dtype=int32)"
      ]
     },
     "execution_count": 20,
     "metadata": {},
     "output_type": "execute_result"
    }
   ],
   "source": [
    "z=np.zeros((3,3),dtype='int32')\n",
    "z[1,1]=9\n",
    "z"
   ]
  },
  {
   "cell_type": "code",
   "execution_count": 21,
   "id": "a67de303-42af-49c3-bc52-5c005b89a788",
   "metadata": {},
   "outputs": [
    {
     "name": "stdout",
     "output_type": "stream",
     "text": [
      "[[1 1 1 1 1]\n",
      " [1 0 0 0 1]\n",
      " [1 0 9 0 1]\n",
      " [1 0 0 0 1]\n",
      " [1 1 1 1 1]]\n"
     ]
    }
   ],
   "source": [
    "out[1:4,1:4]=z\n",
    "print(out)"
   ]
  },
  {
   "cell_type": "markdown",
   "id": "75f1d05e-3026-41ca-bccc-5d7d06ea21ef",
   "metadata": {},
   "source": [
    "**Mathematics**"
   ]
  },
  {
   "cell_type": "code",
   "execution_count": 22,
   "id": "e8c595bb-41ee-4137-8e0a-c9fc91b0c2f2",
   "metadata": {},
   "outputs": [],
   "source": [
    "a=np.array([2,4,6],dtype='int32')"
   ]
  },
  {
   "cell_type": "code",
   "execution_count": 23,
   "id": "da1f8d13-5839-47ff-bf18-caffdbc2508a",
   "metadata": {},
   "outputs": [
    {
     "data": {
      "text/plain": [
       "array([1., 2., 3.])"
      ]
     },
     "execution_count": 23,
     "metadata": {},
     "output_type": "execute_result"
    }
   ],
   "source": [
    "a/2"
   ]
  },
  {
   "cell_type": "code",
   "execution_count": 24,
   "id": "fe581de7-36ea-4c52-9342-670f43ea7640",
   "metadata": {},
   "outputs": [
    {
     "data": {
      "text/plain": [
       "array([ 6, 12, 18], dtype=int32)"
      ]
     },
     "execution_count": 24,
     "metadata": {},
     "output_type": "execute_result"
    }
   ],
   "source": [
    "a*3"
   ]
  },
  {
   "cell_type": "code",
   "execution_count": 25,
   "id": "2466c006-5d17-4330-a183-dee21e3ba59c",
   "metadata": {},
   "outputs": [
    {
     "data": {
      "text/plain": [
       "array([4, 6, 8], dtype=int32)"
      ]
     },
     "execution_count": 25,
     "metadata": {},
     "output_type": "execute_result"
    }
   ],
   "source": [
    "a+2"
   ]
  },
  {
   "cell_type": "code",
   "execution_count": 26,
   "id": "2e46aa86-709d-410f-8b8c-d54ed495bbfb",
   "metadata": {},
   "outputs": [
    {
     "data": {
      "text/plain": [
       "array([ 4, 35, 27])"
      ]
     },
     "execution_count": 26,
     "metadata": {},
     "output_type": "execute_result"
    }
   ],
   "source": [
    "b=np.array([2,31,21])\n",
    "a+b"
   ]
  },
  {
   "cell_type": "code",
   "execution_count": 27,
   "id": "98320145-7ac9-41d9-85f7-33c463cc8f31",
   "metadata": {},
   "outputs": [
    {
     "data": {
      "text/plain": [
       "array([ 4, 16, 36], dtype=int32)"
      ]
     },
     "execution_count": 27,
     "metadata": {},
     "output_type": "execute_result"
    }
   ],
   "source": [
    "a**2\n"
   ]
  },
  {
   "cell_type": "code",
   "execution_count": 28,
   "id": "3f45d6cd-a048-4c2e-84a9-e9b4a1348004",
   "metadata": {},
   "outputs": [
    {
     "data": {
      "text/plain": [
       "array([-0.41614684, -0.65364362,  0.96017029])"
      ]
     },
     "execution_count": 28,
     "metadata": {},
     "output_type": "execute_result"
    }
   ],
   "source": [
    "np.cos(a)"
   ]
  },
  {
   "cell_type": "markdown",
   "id": "8c88a1f9-d5f6-4601-830b-caa39f5e9a8f",
   "metadata": {},
   "source": [
    "**Linear Algebra**"
   ]
  },
  {
   "cell_type": "code",
   "execution_count": 38,
   "id": "716fe68f-0aa0-4d24-9306-c42684a83cd8",
   "metadata": {},
   "outputs": [
    {
     "data": {
      "text/plain": [
       "array([[3, 5, 6],\n",
       "       [4, 4, 1]], dtype=int32)"
      ]
     },
     "execution_count": 38,
     "metadata": {},
     "output_type": "execute_result"
    }
   ],
   "source": [
    "ar=np.random.randint(7,size=(2,3))\n",
    "ar"
   ]
  },
  {
   "cell_type": "code",
   "execution_count": 39,
   "id": "e5aaf5d2-2f3c-4ee7-9f22-16ddffdace14",
   "metadata": {},
   "outputs": [
    {
     "data": {
      "text/plain": [
       "array([[0, 1],\n",
       "       [0, 0],\n",
       "       [0, 2]], dtype=int32)"
      ]
     },
     "execution_count": 39,
     "metadata": {},
     "output_type": "execute_result"
    }
   ],
   "source": [
    "br=np.random.randint(3,size=(3,2))\n",
    "br"
   ]
  },
  {
   "cell_type": "code",
   "execution_count": 45,
   "id": "a301a7e7-0358-4e80-8631-0876dfbf5756",
   "metadata": {},
   "outputs": [
    {
     "data": {
      "text/plain": [
       "array([[ 0, 15],\n",
       "       [ 0,  6]], dtype=int32)"
      ]
     },
     "execution_count": 45,
     "metadata": {},
     "output_type": "execute_result"
    }
   ],
   "source": [
    "np.matmul(ar,br)\n"
   ]
  },
  {
   "cell_type": "code",
   "execution_count": 48,
   "id": "12ab59bb-157a-4524-9d45-524e1223d385",
   "metadata": {},
   "outputs": [
    {
     "data": {
      "text/plain": [
       "np.float64(-40.000000000000014)"
      ]
     },
     "execution_count": 48,
     "metadata": {},
     "output_type": "execute_result"
    }
   ],
   "source": [
    "fg=np.random.randint(4,7,size=(3,3))\n",
    "np.linalg.det(fg)\n"
   ]
  },
  {
   "cell_type": "code",
   "execution_count": 49,
   "id": "206fe68f-749c-4386-bedf-f40a4586e3c1",
   "metadata": {},
   "outputs": [
    {
     "data": {
      "text/plain": [
       "array([[-5.00000000e-01, -7.40148683e-17,  5.00000000e-01],\n",
       "       [ 3.00000000e-01,  3.00000000e-01, -5.00000000e-01],\n",
       "       [ 3.00000000e-01, -2.00000000e-01,  0.00000000e+00]])"
      ]
     },
     "execution_count": 49,
     "metadata": {},
     "output_type": "execute_result"
    }
   ],
   "source": [
    "np.linalg.inv(fg)"
   ]
  },
  {
   "cell_type": "code",
   "execution_count": null,
   "id": "0ba668e2-02e0-4dcc-a90a-e40acf2a08ad",
   "metadata": {},
   "outputs": [],
   "source": []
  }
 ],
 "metadata": {
  "kernelspec": {
   "display_name": "Python 3 (ipykernel)",
   "language": "python",
   "name": "python3"
  },
  "language_info": {
   "codemirror_mode": {
    "name": "ipython",
    "version": 3
   },
   "file_extension": ".py",
   "mimetype": "text/x-python",
   "name": "python",
   "nbconvert_exporter": "python",
   "pygments_lexer": "ipython3",
   "version": "3.10.11"
  }
 },
 "nbformat": 4,
 "nbformat_minor": 5
}
