{
 "cells": [
  {
   "cell_type": "markdown",
   "metadata": {
    "id": "GhFxjVHJ57De"
   },
   "source": [
    "#Intro to Dataframes"
   ]
  },
  {
   "cell_type": "code",
   "execution_count": null,
   "metadata": {
    "id": "f5K3c-Nt56cv"
   },
   "outputs": [],
   "source": [
    "import pandas as pd\n",
    "df=pd.DataFrame([[1,2,3],[4,5,6],[7,8,9]],index=[\"x\",\"y\",\"z\"],columns=[\"a\",\"b\",\"c\"])"
   ]
  },
  {
   "cell_type": "code",
   "execution_count": null,
   "metadata": {
    "colab": {
     "base_uri": "https://localhost:8080/",
     "height": 143
    },
    "id": "IyBQfUNy6GOM",
    "outputId": "3076352c-4bd7-4bcd-d6c1-447ef365c82c"
   },
   "outputs": [
    {
     "data": {
      "text/html": [
       "<div>\n",
       "<style scoped>\n",
       "    .dataframe tbody tr th:only-of-type {\n",
       "        vertical-align: middle;\n",
       "    }\n",
       "\n",
       "    .dataframe tbody tr th {\n",
       "        vertical-align: top;\n",
       "    }\n",
       "\n",
       "    .dataframe thead th {\n",
       "        text-align: right;\n",
       "    }\n",
       "</style>\n",
       "<table border=\"1\" class=\"dataframe\">\n",
       "  <thead>\n",
       "    <tr style=\"text-align: right;\">\n",
       "      <th></th>\n",
       "      <th>a</th>\n",
       "      <th>b</th>\n",
       "      <th>c</th>\n",
       "    </tr>\n",
       "  </thead>\n",
       "  <tbody>\n",
       "    <tr>\n",
       "      <th>x</th>\n",
       "      <td>1</td>\n",
       "      <td>2</td>\n",
       "      <td>3</td>\n",
       "    </tr>\n",
       "    <tr>\n",
       "      <th>y</th>\n",
       "      <td>4</td>\n",
       "      <td>5</td>\n",
       "      <td>6</td>\n",
       "    </tr>\n",
       "    <tr>\n",
       "      <th>z</th>\n",
       "      <td>7</td>\n",
       "      <td>8</td>\n",
       "      <td>9</td>\n",
       "    </tr>\n",
       "  </tbody>\n",
       "</table>\n",
       "</div>"
      ],
      "text/plain": [
       "   a  b  c\n",
       "x  1  2  3\n",
       "y  4  5  6\n",
       "z  7  8  9"
      ]
     },
     "execution_count": 2,
     "metadata": {},
     "output_type": "execute_result"
    }
   ],
   "source": [
    "df.head()"
   ]
  },
  {
   "cell_type": "code",
   "execution_count": null,
   "metadata": {
    "colab": {
     "base_uri": "https://localhost:8080/"
    },
    "id": "-Jp-bcCE62DP",
    "outputId": "8ec59b8a-5b8e-416b-cd62-1b1255b974a5"
   },
   "outputs": [
    {
     "data": {
      "text/plain": [
       "['a', 'b', 'c']"
      ]
     },
     "execution_count": 3,
     "metadata": {},
     "output_type": "execute_result"
    }
   ],
   "source": [
    "df.columns.tolist()"
   ]
  },
  {
   "cell_type": "code",
   "execution_count": null,
   "metadata": {
    "colab": {
     "base_uri": "https://localhost:8080/"
    },
    "id": "4PF-oMbN7UGC",
    "outputId": "0c36ce23-2f5b-40b2-8c73-e53080f3b7ca"
   },
   "outputs": [
    {
     "data": {
      "text/plain": [
       "['x', 'y', 'z']"
      ]
     },
     "execution_count": 4,
     "metadata": {},
     "output_type": "execute_result"
    }
   ],
   "source": [
    "df.index.tolist()"
   ]
  },
  {
   "cell_type": "code",
   "execution_count": null,
   "metadata": {
    "colab": {
     "base_uri": "https://localhost:8080/"
    },
    "id": "tnL3HVJm7hsc",
    "outputId": "b65bf393-e6fb-4de6-e93b-f385165c9a1e"
   },
   "outputs": [
    {
     "name": "stdout",
     "output_type": "stream",
     "text": [
      "<class 'pandas.core.frame.DataFrame'>\n",
      "Index: 3 entries, x to z\n",
      "Data columns (total 3 columns):\n",
      " #   Column  Non-Null Count  Dtype\n",
      "---  ------  --------------  -----\n",
      " 0   a       3 non-null      int64\n",
      " 1   b       3 non-null      int64\n",
      " 2   c       3 non-null      int64\n",
      "dtypes: int64(3)\n",
      "memory usage: 96.0+ bytes\n"
     ]
    }
   ],
   "source": [
    "df.info()"
   ]
  },
  {
   "cell_type": "code",
   "execution_count": null,
   "metadata": {
    "colab": {
     "base_uri": "https://localhost:8080/",
     "height": 300
    },
    "id": "H3PrItqp7j11",
    "outputId": "9712cd60-5014-4124-e05f-9a979b2a5642"
   },
   "outputs": [
    {
     "data": {
      "text/html": [
       "<div>\n",
       "<style scoped>\n",
       "    .dataframe tbody tr th:only-of-type {\n",
       "        vertical-align: middle;\n",
       "    }\n",
       "\n",
       "    .dataframe tbody tr th {\n",
       "        vertical-align: top;\n",
       "    }\n",
       "\n",
       "    .dataframe thead th {\n",
       "        text-align: right;\n",
       "    }\n",
       "</style>\n",
       "<table border=\"1\" class=\"dataframe\">\n",
       "  <thead>\n",
       "    <tr style=\"text-align: right;\">\n",
       "      <th></th>\n",
       "      <th>a</th>\n",
       "      <th>b</th>\n",
       "      <th>c</th>\n",
       "    </tr>\n",
       "  </thead>\n",
       "  <tbody>\n",
       "    <tr>\n",
       "      <th>count</th>\n",
       "      <td>3.0</td>\n",
       "      <td>3.0</td>\n",
       "      <td>3.0</td>\n",
       "    </tr>\n",
       "    <tr>\n",
       "      <th>mean</th>\n",
       "      <td>4.0</td>\n",
       "      <td>5.0</td>\n",
       "      <td>6.0</td>\n",
       "    </tr>\n",
       "    <tr>\n",
       "      <th>std</th>\n",
       "      <td>3.0</td>\n",
       "      <td>3.0</td>\n",
       "      <td>3.0</td>\n",
       "    </tr>\n",
       "    <tr>\n",
       "      <th>min</th>\n",
       "      <td>1.0</td>\n",
       "      <td>2.0</td>\n",
       "      <td>3.0</td>\n",
       "    </tr>\n",
       "    <tr>\n",
       "      <th>25%</th>\n",
       "      <td>2.5</td>\n",
       "      <td>3.5</td>\n",
       "      <td>4.5</td>\n",
       "    </tr>\n",
       "    <tr>\n",
       "      <th>50%</th>\n",
       "      <td>4.0</td>\n",
       "      <td>5.0</td>\n",
       "      <td>6.0</td>\n",
       "    </tr>\n",
       "    <tr>\n",
       "      <th>75%</th>\n",
       "      <td>5.5</td>\n",
       "      <td>6.5</td>\n",
       "      <td>7.5</td>\n",
       "    </tr>\n",
       "    <tr>\n",
       "      <th>max</th>\n",
       "      <td>7.0</td>\n",
       "      <td>8.0</td>\n",
       "      <td>9.0</td>\n",
       "    </tr>\n",
       "  </tbody>\n",
       "</table>\n",
       "</div>"
      ],
      "text/plain": [
       "         a    b    c\n",
       "count  3.0  3.0  3.0\n",
       "mean   4.0  5.0  6.0\n",
       "std    3.0  3.0  3.0\n",
       "min    1.0  2.0  3.0\n",
       "25%    2.5  3.5  4.5\n",
       "50%    4.0  5.0  6.0\n",
       "75%    5.5  6.5  7.5\n",
       "max    7.0  8.0  9.0"
      ]
     },
     "execution_count": 6,
     "metadata": {},
     "output_type": "execute_result"
    }
   ],
   "source": [
    "df.describe()"
   ]
  },
  {
   "cell_type": "code",
   "execution_count": null,
   "metadata": {
    "colab": {
     "base_uri": "https://localhost:8080/",
     "height": 178
    },
    "id": "Rh7F8PlM71JC",
    "outputId": "99deccfd-ac12-44e6-e920-d17079ad5f29"
   },
   "outputs": [
    {
     "data": {
      "text/plain": [
       "a    3\n",
       "b    3\n",
       "c    3\n",
       "dtype: int64"
      ]
     },
     "execution_count": 7,
     "metadata": {},
     "output_type": "execute_result"
    }
   ],
   "source": [
    "df.nunique()"
   ]
  },
  {
   "cell_type": "markdown",
   "metadata": {
    "id": "T4pOqzih8wbO"
   },
   "source": [
    " **OLYMPIC DATASET**"
   ]
  },
  {
   "cell_type": "code",
   "execution_count": null,
   "metadata": {
    "colab": {
     "base_uri": "https://localhost:8080/",
     "height": 206
    },
    "id": "WWHGg3Lw8AEK",
    "outputId": "ce79a4bb-3b85-4438-a397-1229de128d83"
   },
   "outputs": [
    {
     "data": {
      "text/html": [
       "<div>\n",
       "<style scoped>\n",
       "    .dataframe tbody tr th:only-of-type {\n",
       "        vertical-align: middle;\n",
       "    }\n",
       "\n",
       "    .dataframe tbody tr th {\n",
       "        vertical-align: top;\n",
       "    }\n",
       "\n",
       "    .dataframe thead th {\n",
       "        text-align: right;\n",
       "    }\n",
       "</style>\n",
       "<table border=\"1\" class=\"dataframe\">\n",
       "  <thead>\n",
       "    <tr style=\"text-align: right;\">\n",
       "      <th></th>\n",
       "      <th>ID</th>\n",
       "      <th>Name</th>\n",
       "      <th>Sex</th>\n",
       "      <th>Age</th>\n",
       "      <th>Height</th>\n",
       "      <th>Weight</th>\n",
       "      <th>Team</th>\n",
       "      <th>NOC</th>\n",
       "      <th>Games</th>\n",
       "      <th>Year</th>\n",
       "      <th>Season</th>\n",
       "      <th>City</th>\n",
       "      <th>Sport</th>\n",
       "      <th>Event</th>\n",
       "      <th>Medal</th>\n",
       "    </tr>\n",
       "  </thead>\n",
       "  <tbody>\n",
       "    <tr>\n",
       "      <th>0</th>\n",
       "      <td>1</td>\n",
       "      <td>A Dijiang</td>\n",
       "      <td>M</td>\n",
       "      <td>24.0</td>\n",
       "      <td>180.0</td>\n",
       "      <td>80.0</td>\n",
       "      <td>China</td>\n",
       "      <td>CHN</td>\n",
       "      <td>1992 Summer</td>\n",
       "      <td>1992</td>\n",
       "      <td>Summer</td>\n",
       "      <td>Barcelona</td>\n",
       "      <td>Basketball</td>\n",
       "      <td>Basketball Men's Basketball</td>\n",
       "      <td>NaN</td>\n",
       "    </tr>\n",
       "    <tr>\n",
       "      <th>1</th>\n",
       "      <td>2</td>\n",
       "      <td>A Lamusi</td>\n",
       "      <td>M</td>\n",
       "      <td>23.0</td>\n",
       "      <td>170.0</td>\n",
       "      <td>60.0</td>\n",
       "      <td>China</td>\n",
       "      <td>CHN</td>\n",
       "      <td>2012 Summer</td>\n",
       "      <td>2012</td>\n",
       "      <td>Summer</td>\n",
       "      <td>London</td>\n",
       "      <td>Judo</td>\n",
       "      <td>Judo Men's Extra-Lightweight</td>\n",
       "      <td>NaN</td>\n",
       "    </tr>\n",
       "    <tr>\n",
       "      <th>2</th>\n",
       "      <td>3</td>\n",
       "      <td>Gunnar Nielsen Aaby</td>\n",
       "      <td>M</td>\n",
       "      <td>24.0</td>\n",
       "      <td>NaN</td>\n",
       "      <td>NaN</td>\n",
       "      <td>Denmark</td>\n",
       "      <td>DEN</td>\n",
       "      <td>1920 Summer</td>\n",
       "      <td>1920</td>\n",
       "      <td>Summer</td>\n",
       "      <td>Antwerpen</td>\n",
       "      <td>Football</td>\n",
       "      <td>Football Men's Football</td>\n",
       "      <td>NaN</td>\n",
       "    </tr>\n",
       "    <tr>\n",
       "      <th>3</th>\n",
       "      <td>4</td>\n",
       "      <td>Edgar Lindenau Aabye</td>\n",
       "      <td>M</td>\n",
       "      <td>34.0</td>\n",
       "      <td>NaN</td>\n",
       "      <td>NaN</td>\n",
       "      <td>Denmark/Sweden</td>\n",
       "      <td>DEN</td>\n",
       "      <td>1900 Summer</td>\n",
       "      <td>1900</td>\n",
       "      <td>Summer</td>\n",
       "      <td>Paris</td>\n",
       "      <td>Tug-Of-War</td>\n",
       "      <td>Tug-Of-War Men's Tug-Of-War</td>\n",
       "      <td>Gold</td>\n",
       "    </tr>\n",
       "    <tr>\n",
       "      <th>4</th>\n",
       "      <td>5</td>\n",
       "      <td>Christine Jacoba Aaftink</td>\n",
       "      <td>F</td>\n",
       "      <td>21.0</td>\n",
       "      <td>185.0</td>\n",
       "      <td>82.0</td>\n",
       "      <td>Netherlands</td>\n",
       "      <td>NED</td>\n",
       "      <td>1988 Winter</td>\n",
       "      <td>1988</td>\n",
       "      <td>Winter</td>\n",
       "      <td>Calgary</td>\n",
       "      <td>Speed Skating</td>\n",
       "      <td>Speed Skating Women's 500 metres</td>\n",
       "      <td>NaN</td>\n",
       "    </tr>\n",
       "  </tbody>\n",
       "</table>\n",
       "</div>"
      ],
      "text/plain": [
       "   ID                      Name Sex   Age  Height  Weight            Team  \\\n",
       "0   1                 A Dijiang   M  24.0   180.0    80.0           China   \n",
       "1   2                  A Lamusi   M  23.0   170.0    60.0           China   \n",
       "2   3       Gunnar Nielsen Aaby   M  24.0     NaN     NaN         Denmark   \n",
       "3   4      Edgar Lindenau Aabye   M  34.0     NaN     NaN  Denmark/Sweden   \n",
       "4   5  Christine Jacoba Aaftink   F  21.0   185.0    82.0     Netherlands   \n",
       "\n",
       "   NOC        Games  Year  Season       City          Sport  \\\n",
       "0  CHN  1992 Summer  1992  Summer  Barcelona     Basketball   \n",
       "1  CHN  2012 Summer  2012  Summer     London           Judo   \n",
       "2  DEN  1920 Summer  1920  Summer  Antwerpen       Football   \n",
       "3  DEN  1900 Summer  1900  Summer      Paris     Tug-Of-War   \n",
       "4  NED  1988 Winter  1988  Winter    Calgary  Speed Skating   \n",
       "\n",
       "                              Event Medal  \n",
       "0       Basketball Men's Basketball   NaN  \n",
       "1      Judo Men's Extra-Lightweight   NaN  \n",
       "2           Football Men's Football   NaN  \n",
       "3       Tug-Of-War Men's Tug-Of-War  Gold  \n",
       "4  Speed Skating Women's 500 metres   NaN  "
      ]
     },
     "execution_count": 8,
     "metadata": {},
     "output_type": "execute_result"
    }
   ],
   "source": [
    "df=pd.read_csv(\"../datasets/athlete_events.csv\") #in vscode dataset/athelete.csv\n",
    "df.head()"
   ]
  },
  {
   "cell_type": "markdown",
   "metadata": {
    "id": "1AaX68uq-P8T"
   },
   "source": [
    "**Accesing Data**"
   ]
  },
  {
   "cell_type": "code",
   "execution_count": null,
   "metadata": {
    "colab": {
     "base_uri": "https://localhost:8080/",
     "height": 536
    },
    "id": "dWhW3syX-Xsa",
    "outputId": "53c064c7-0ffc-43be-be26-58a997805787"
   },
   "outputs": [
    {
     "data": {
      "text/html": [
       "<div>\n",
       "<style scoped>\n",
       "    .dataframe tbody tr th:only-of-type {\n",
       "        vertical-align: middle;\n",
       "    }\n",
       "\n",
       "    .dataframe tbody tr th {\n",
       "        vertical-align: top;\n",
       "    }\n",
       "\n",
       "    .dataframe thead th {\n",
       "        text-align: right;\n",
       "    }\n",
       "</style>\n",
       "<table border=\"1\" class=\"dataframe\">\n",
       "  <thead>\n",
       "    <tr style=\"text-align: right;\">\n",
       "      <th></th>\n",
       "      <th>ID</th>\n",
       "      <th>Name</th>\n",
       "      <th>Sex</th>\n",
       "      <th>Age</th>\n",
       "      <th>Height</th>\n",
       "      <th>Weight</th>\n",
       "      <th>Team</th>\n",
       "      <th>NOC</th>\n",
       "      <th>Games</th>\n",
       "      <th>Year</th>\n",
       "      <th>Season</th>\n",
       "      <th>City</th>\n",
       "      <th>Sport</th>\n",
       "      <th>Event</th>\n",
       "      <th>Medal</th>\n",
       "    </tr>\n",
       "  </thead>\n",
       "  <tbody>\n",
       "    <tr>\n",
       "      <th>246125</th>\n",
       "      <td>123249</td>\n",
       "      <td>Torsten Elis Ullman</td>\n",
       "      <td>M</td>\n",
       "      <td>43.0</td>\n",
       "      <td>187.0</td>\n",
       "      <td>88.0</td>\n",
       "      <td>Sweden</td>\n",
       "      <td>SWE</td>\n",
       "      <td>1952 Summer</td>\n",
       "      <td>1952</td>\n",
       "      <td>Summer</td>\n",
       "      <td>Helsinki</td>\n",
       "      <td>Shooting</td>\n",
       "      <td>Shooting Men's Free Pistol, 50 metres</td>\n",
       "      <td>NaN</td>\n",
       "    </tr>\n",
       "    <tr>\n",
       "      <th>106229</th>\n",
       "      <td>53738</td>\n",
       "      <td>Bohumil Janouek</td>\n",
       "      <td>M</td>\n",
       "      <td>27.0</td>\n",
       "      <td>182.0</td>\n",
       "      <td>83.0</td>\n",
       "      <td>Czechoslovakia</td>\n",
       "      <td>TCH</td>\n",
       "      <td>1964 Summer</td>\n",
       "      <td>1964</td>\n",
       "      <td>Summer</td>\n",
       "      <td>Tokyo</td>\n",
       "      <td>Rowing</td>\n",
       "      <td>Rowing Men's Coxed Eights</td>\n",
       "      <td>Bronze</td>\n",
       "    </tr>\n",
       "    <tr>\n",
       "      <th>160607</th>\n",
       "      <td>80582</td>\n",
       "      <td>Fumiharu Miyamoto</td>\n",
       "      <td>M</td>\n",
       "      <td>19.0</td>\n",
       "      <td>174.0</td>\n",
       "      <td>74.0</td>\n",
       "      <td>Japan</td>\n",
       "      <td>JPN</td>\n",
       "      <td>1988 Summer</td>\n",
       "      <td>1988</td>\n",
       "      <td>Summer</td>\n",
       "      <td>Seoul</td>\n",
       "      <td>Cycling</td>\n",
       "      <td>Cycling Men's Team Pursuit, 4,000 metres</td>\n",
       "      <td>NaN</td>\n",
       "    </tr>\n",
       "    <tr>\n",
       "      <th>160638</th>\n",
       "      <td>80602</td>\n",
       "      <td>Miyo Miyashita</td>\n",
       "      <td>F</td>\n",
       "      <td>21.0</td>\n",
       "      <td>NaN</td>\n",
       "      <td>NaN</td>\n",
       "      <td>Japan</td>\n",
       "      <td>JPN</td>\n",
       "      <td>1952 Summer</td>\n",
       "      <td>1952</td>\n",
       "      <td>Summer</td>\n",
       "      <td>Helsinki</td>\n",
       "      <td>Athletics</td>\n",
       "      <td>Athletics Women's 80 metres Hurdles</td>\n",
       "      <td>NaN</td>\n",
       "    </tr>\n",
       "    <tr>\n",
       "      <th>167881</th>\n",
       "      <td>84351</td>\n",
       "      <td>Minoru Nakano</td>\n",
       "      <td>M</td>\n",
       "      <td>27.0</td>\n",
       "      <td>NaN</td>\n",
       "      <td>NaN</td>\n",
       "      <td>Japan</td>\n",
       "      <td>JPN</td>\n",
       "      <td>1964 Winter</td>\n",
       "      <td>1964</td>\n",
       "      <td>Winter</td>\n",
       "      <td>Innsbruck</td>\n",
       "      <td>Ice Hockey</td>\n",
       "      <td>Ice Hockey Men's Ice Hockey</td>\n",
       "      <td>NaN</td>\n",
       "    </tr>\n",
       "    <tr>\n",
       "      <th>231559</th>\n",
       "      <td>116172</td>\n",
       "      <td>Bnyamin Suda</td>\n",
       "      <td>M</td>\n",
       "      <td>32.0</td>\n",
       "      <td>176.0</td>\n",
       "      <td>105.0</td>\n",
       "      <td>Turkey</td>\n",
       "      <td>TUR</td>\n",
       "      <td>2008 Summer</td>\n",
       "      <td>2008</td>\n",
       "      <td>Summer</td>\n",
       "      <td>Beijing</td>\n",
       "      <td>Weightlifting</td>\n",
       "      <td>Weightlifting Men's Heavyweight</td>\n",
       "      <td>NaN</td>\n",
       "    </tr>\n",
       "    <tr>\n",
       "      <th>44429</th>\n",
       "      <td>22913</td>\n",
       "      <td>Coone</td>\n",
       "      <td>M</td>\n",
       "      <td>NaN</td>\n",
       "      <td>NaN</td>\n",
       "      <td>NaN</td>\n",
       "      <td>France</td>\n",
       "      <td>FRA</td>\n",
       "      <td>1900 Summer</td>\n",
       "      <td>1900</td>\n",
       "      <td>Summer</td>\n",
       "      <td>Paris</td>\n",
       "      <td>Gymnastics</td>\n",
       "      <td>Gymnastics Men's Individual All-Around</td>\n",
       "      <td>NaN</td>\n",
       "    </tr>\n",
       "    <tr>\n",
       "      <th>43703</th>\n",
       "      <td>22534</td>\n",
       "      <td>Vctor Colon Ortz</td>\n",
       "      <td>M</td>\n",
       "      <td>20.0</td>\n",
       "      <td>170.0</td>\n",
       "      <td>66.0</td>\n",
       "      <td>Puerto Rico</td>\n",
       "      <td>PUR</td>\n",
       "      <td>1992 Summer</td>\n",
       "      <td>1992</td>\n",
       "      <td>Summer</td>\n",
       "      <td>Barcelona</td>\n",
       "      <td>Gymnastics</td>\n",
       "      <td>Gymnastics Men's Pommelled Horse</td>\n",
       "      <td>NaN</td>\n",
       "    </tr>\n",
       "    <tr>\n",
       "      <th>230253</th>\n",
       "      <td>115574</td>\n",
       "      <td>Desislava Stoyanova</td>\n",
       "      <td>F</td>\n",
       "      <td>21.0</td>\n",
       "      <td>169.0</td>\n",
       "      <td>59.0</td>\n",
       "      <td>Bulgaria</td>\n",
       "      <td>BUL</td>\n",
       "      <td>2014 Winter</td>\n",
       "      <td>2014</td>\n",
       "      <td>Winter</td>\n",
       "      <td>Sochi</td>\n",
       "      <td>Biathlon</td>\n",
       "      <td>Biathlon Women's 15 kilometres</td>\n",
       "      <td>NaN</td>\n",
       "    </tr>\n",
       "    <tr>\n",
       "      <th>43921</th>\n",
       "      <td>22641</td>\n",
       "      <td>Santo Condorelli</td>\n",
       "      <td>M</td>\n",
       "      <td>21.0</td>\n",
       "      <td>188.0</td>\n",
       "      <td>88.0</td>\n",
       "      <td>Canada</td>\n",
       "      <td>CAN</td>\n",
       "      <td>2016 Summer</td>\n",
       "      <td>2016</td>\n",
       "      <td>Summer</td>\n",
       "      <td>Rio de Janeiro</td>\n",
       "      <td>Swimming</td>\n",
       "      <td>Swimming Men's 50 metres Freestyle</td>\n",
       "      <td>NaN</td>\n",
       "    </tr>\n",
       "  </tbody>\n",
       "</table>\n",
       "</div>"
      ],
      "text/plain": [
       "            ID                 Name Sex   Age  Height  Weight            Team  \\\n",
       "246125  123249  Torsten Elis Ullman   M  43.0   187.0    88.0          Sweden   \n",
       "106229   53738      Bohumil Janouek   M  27.0   182.0    83.0  Czechoslovakia   \n",
       "160607   80582    Fumiharu Miyamoto   M  19.0   174.0    74.0           Japan   \n",
       "160638   80602       Miyo Miyashita   F  21.0     NaN     NaN           Japan   \n",
       "167881   84351        Minoru Nakano   M  27.0     NaN     NaN           Japan   \n",
       "231559  116172         Bnyamin Suda   M  32.0   176.0   105.0          Turkey   \n",
       "44429    22913                Coone   M   NaN     NaN     NaN          France   \n",
       "43703    22534     Vctor Colon Ortz   M  20.0   170.0    66.0     Puerto Rico   \n",
       "230253  115574  Desislava Stoyanova   F  21.0   169.0    59.0        Bulgaria   \n",
       "43921    22641     Santo Condorelli   M  21.0   188.0    88.0          Canada   \n",
       "\n",
       "        NOC        Games  Year  Season            City          Sport  \\\n",
       "246125  SWE  1952 Summer  1952  Summer        Helsinki       Shooting   \n",
       "106229  TCH  1964 Summer  1964  Summer           Tokyo         Rowing   \n",
       "160607  JPN  1988 Summer  1988  Summer           Seoul        Cycling   \n",
       "160638  JPN  1952 Summer  1952  Summer        Helsinki      Athletics   \n",
       "167881  JPN  1964 Winter  1964  Winter       Innsbruck     Ice Hockey   \n",
       "231559  TUR  2008 Summer  2008  Summer         Beijing  Weightlifting   \n",
       "44429   FRA  1900 Summer  1900  Summer           Paris     Gymnastics   \n",
       "43703   PUR  1992 Summer  1992  Summer       Barcelona     Gymnastics   \n",
       "230253  BUL  2014 Winter  2014  Winter           Sochi       Biathlon   \n",
       "43921   CAN  2016 Summer  2016  Summer  Rio de Janeiro       Swimming   \n",
       "\n",
       "                                           Event   Medal  \n",
       "246125     Shooting Men's Free Pistol, 50 metres     NaN  \n",
       "106229                 Rowing Men's Coxed Eights  Bronze  \n",
       "160607  Cycling Men's Team Pursuit, 4,000 metres     NaN  \n",
       "160638       Athletics Women's 80 metres Hurdles     NaN  \n",
       "167881               Ice Hockey Men's Ice Hockey     NaN  \n",
       "231559           Weightlifting Men's Heavyweight     NaN  \n",
       "44429     Gymnastics Men's Individual All-Around     NaN  \n",
       "43703           Gymnastics Men's Pommelled Horse     NaN  \n",
       "230253            Biathlon Women's 15 kilometres     NaN  \n",
       "43921         Swimming Men's 50 metres Freestyle     NaN  "
      ]
     },
     "execution_count": 9,
     "metadata": {},
     "output_type": "execute_result"
    }
   ],
   "source": [
    "df.sample(10)"
   ]
  },
  {
   "cell_type": "code",
   "execution_count": null,
   "metadata": {
    "colab": {
     "base_uri": "https://localhost:8080/",
     "height": 554
    },
    "id": "zhPa-VIv-g-P",
    "outputId": "cd7aa709-e8e0-40c8-9cfb-a88687f2820e"
   },
   "outputs": [
    {
     "data": {
      "text/plain": [
       "ID                          31980\n",
       "Name             Amro El-Geioushy\n",
       "Sex                             M\n",
       "Age                          25.0\n",
       "Height                        NaN\n",
       "Weight                        NaN\n",
       "Team                        Egypt\n",
       "NOC                           EGY\n",
       "Games                 1996 Summer\n",
       "Year                         1996\n",
       "Season                     Summer\n",
       "City                      Atlanta\n",
       "Sport                    Handball\n",
       "Event     Handball Men's Handball\n",
       "Medal                         NaN\n",
       "Name: 62449, dtype: object"
      ]
     },
     "execution_count": 10,
     "metadata": {},
     "output_type": "execute_result"
    }
   ],
   "source": [
    "df.loc[62449]"
   ]
  },
  {
   "cell_type": "code",
   "execution_count": null,
   "metadata": {
    "colab": {
     "base_uri": "https://localhost:8080/",
     "height": 554
    },
    "id": "4CG0FCwa_BAF",
    "outputId": "dec208e6-ccc1-47db-8873-28ebe0dc5b69"
   },
   "outputs": [
    {
     "data": {
      "text/plain": [
       "ID                                  1\n",
       "Name                        A Dijiang\n",
       "Sex                                 M\n",
       "Age                              24.0\n",
       "Height                          180.0\n",
       "Weight                           80.0\n",
       "Team                            China\n",
       "NOC                               CHN\n",
       "Games                     1992 Summer\n",
       "Year                             1992\n",
       "Season                         Summer\n",
       "City                        Barcelona\n",
       "Sport                      Basketball\n",
       "Event     Basketball Men's Basketball\n",
       "Medal                             NaN\n",
       "Name: 0, dtype: object"
      ]
     },
     "execution_count": 11,
     "metadata": {},
     "output_type": "execute_result"
    }
   ],
   "source": [
    "df.iloc[0] #first row"
   ]
  },
  {
   "cell_type": "code",
   "execution_count": null,
   "metadata": {
    "colab": {
     "base_uri": "https://localhost:8080/"
    },
    "id": "HOyrfCeo_PBE",
    "outputId": "5f9a70c3-35e8-4c08-e372-a62cce132822"
   },
   "outputs": [
    {
     "name": "stdout",
     "output_type": "stream",
     "text": [
      "                    Name\n",
      "Christine Jacoba Aaftink\n",
      "Christine Jacoba Aaftink\n",
      "Christine Jacoba Aaftink\n"
     ]
    }
   ],
   "source": [
    "print(df.iloc[5:8, 1:2].to_string(index=False))\n"
   ]
  },
  {
   "cell_type": "code",
   "execution_count": null,
   "metadata": {
    "colab": {
     "base_uri": "https://localhost:8080/"
    },
    "id": "9Z83m57__3qi",
    "outputId": "d2593a07-4323-4d17-9d85-f9fa65aa5627"
   },
   "outputs": [
    {
     "data": {
      "text/plain": [
       "Index(['ID', 'Name', 'Sex', 'Age', 'Height', 'Weight', 'Team', 'NOC', 'Games',\n",
       "       'Year', 'Season', 'City', 'Sport', 'Event', 'Medal'],\n",
       "      dtype='object')"
      ]
     },
     "execution_count": 13,
     "metadata": {},
     "output_type": "execute_result"
    }
   ],
   "source": [
    "df.columns\n"
   ]
  },
  {
   "cell_type": "markdown",
   "metadata": {
    "id": "1utQFk_iALGo"
   },
   "source": [
    "**Filtering Data**"
   ]
  },
  {
   "cell_type": "code",
   "execution_count": null,
   "metadata": {
    "colab": {
     "base_uri": "https://localhost:8080/"
    },
    "id": "LP8F2ZLWAPiH",
    "outputId": "71e3a0c6-e1ad-41df-ad0c-292527fecbba"
   },
   "outputs": [
    {
     "name": "stdout",
     "output_type": "stream",
     "text": [
      "<class 'pandas.core.frame.DataFrame'>\n",
      "RangeIndex: 145500 entries, 0 to 145499\n",
      "Data columns (total 10 columns):\n",
      " #   Column        Non-Null Count   Dtype  \n",
      "---  ------        --------------   -----  \n",
      " 0   athlete_id    145500 non-null  int64  \n",
      " 1   name          145500 non-null  object \n",
      " 2   born_date     143693 non-null  object \n",
      " 3   born_city     110908 non-null  object \n",
      " 4   born_region   110908 non-null  object \n",
      " 5   born_country  110908 non-null  object \n",
      " 6   NOC           145499 non-null  object \n",
      " 7   height_cm     106651 non-null  float64\n",
      " 8   weight_kg     102070 non-null  float64\n",
      " 9   died_date     33940 non-null   object \n",
      "dtypes: float64(2), int64(1), object(7)\n",
      "memory usage: 11.1+ MB\n"
     ]
    }
   ],
   "source": [
    "df=pd.read_csv(\"../datasets/bios.csv\")\n",
    "df.info()"
   ]
  },
  {
   "cell_type": "code",
   "execution_count": null,
   "metadata": {
    "colab": {
     "base_uri": "https://localhost:8080/",
     "height": 1000
    },
    "id": "iO2sIk52Azt6",
    "outputId": "deb5f4c6-9276-47eb-dbd3-a66d4c410bd6"
   },
   "outputs": [
    {
     "data": {
      "text/html": [
       "<div>\n",
       "<style scoped>\n",
       "    .dataframe tbody tr th:only-of-type {\n",
       "        vertical-align: middle;\n",
       "    }\n",
       "\n",
       "    .dataframe tbody tr th {\n",
       "        vertical-align: top;\n",
       "    }\n",
       "\n",
       "    .dataframe thead th {\n",
       "        text-align: right;\n",
       "    }\n",
       "</style>\n",
       "<table border=\"1\" class=\"dataframe\">\n",
       "  <thead>\n",
       "    <tr style=\"text-align: right;\">\n",
       "      <th></th>\n",
       "      <th>name</th>\n",
       "      <th>height_cm</th>\n",
       "    </tr>\n",
       "  </thead>\n",
       "  <tbody>\n",
       "    <tr>\n",
       "      <th>5089</th>\n",
       "      <td>Viktor Pankrashkin</td>\n",
       "      <td>220.0</td>\n",
       "    </tr>\n",
       "    <tr>\n",
       "      <th>5583</th>\n",
       "      <td>Paulinho Villas Boas</td>\n",
       "      <td>217.0</td>\n",
       "    </tr>\n",
       "    <tr>\n",
       "      <th>5673</th>\n",
       "      <td>Gunther Behnke</td>\n",
       "      <td>221.0</td>\n",
       "    </tr>\n",
       "    <tr>\n",
       "      <th>5716</th>\n",
       "      <td>Uwe Blab</td>\n",
       "      <td>218.0</td>\n",
       "    </tr>\n",
       "    <tr>\n",
       "      <th>5781</th>\n",
       "      <td>Tommy Burleson</td>\n",
       "      <td>223.0</td>\n",
       "    </tr>\n",
       "    <tr>\n",
       "      <th>5796</th>\n",
       "      <td>Andy Campbell</td>\n",
       "      <td>218.0</td>\n",
       "    </tr>\n",
       "    <tr>\n",
       "      <th>6223</th>\n",
       "      <td>Lars Hansen</td>\n",
       "      <td>216.0</td>\n",
       "    </tr>\n",
       "    <tr>\n",
       "      <th>6270</th>\n",
       "      <td>Hu Zhangbao</td>\n",
       "      <td>216.0</td>\n",
       "    </tr>\n",
       "    <tr>\n",
       "      <th>6409</th>\n",
       "      <td>Sergey Kovalenko</td>\n",
       "      <td>216.0</td>\n",
       "    </tr>\n",
       "    <tr>\n",
       "      <th>6420</th>\n",
       "      <td>Jānis Krūmiņš</td>\n",
       "      <td>218.0</td>\n",
       "    </tr>\n",
       "    <tr>\n",
       "      <th>6504</th>\n",
       "      <td>Luc Longley</td>\n",
       "      <td>220.0</td>\n",
       "    </tr>\n",
       "    <tr>\n",
       "      <th>6722</th>\n",
       "      <td>Shaquille O'Neal</td>\n",
       "      <td>216.0</td>\n",
       "    </tr>\n",
       "    <tr>\n",
       "      <th>6937</th>\n",
       "      <td>David Robinson</td>\n",
       "      <td>216.0</td>\n",
       "    </tr>\n",
       "    <tr>\n",
       "      <th>6978</th>\n",
       "      <td>Arvydas Sabonis</td>\n",
       "      <td>223.0</td>\n",
       "    </tr>\n",
       "    <tr>\n",
       "      <th>7074</th>\n",
       "      <td>Paulo da Silva</td>\n",
       "      <td>217.0</td>\n",
       "    </tr>\n",
       "    <tr>\n",
       "      <th>7188</th>\n",
       "      <td>Vladimir Tkachenko</td>\n",
       "      <td>220.0</td>\n",
       "    </tr>\n",
       "    <tr>\n",
       "      <th>7281</th>\n",
       "      <td>Stojko Vranković</td>\n",
       "      <td>217.0</td>\n",
       "    </tr>\n",
       "    <tr>\n",
       "      <th>7376</th>\n",
       "      <td>Eurelijus Žukauskas</td>\n",
       "      <td>218.0</td>\n",
       "    </tr>\n",
       "    <tr>\n",
       "      <th>52608</th>\n",
       "      <td>Aleksey Kazakov</td>\n",
       "      <td>217.0</td>\n",
       "    </tr>\n",
       "    <tr>\n",
       "      <th>82100</th>\n",
       "      <td>Frédéric Weis</td>\n",
       "      <td>218.0</td>\n",
       "    </tr>\n",
       "    <tr>\n",
       "      <th>89070</th>\n",
       "      <td>Yao Ming</td>\n",
       "      <td>226.0</td>\n",
       "    </tr>\n",
       "    <tr>\n",
       "      <th>89075</th>\n",
       "      <td>Roberto Dueñas</td>\n",
       "      <td>221.0</td>\n",
       "    </tr>\n",
       "    <tr>\n",
       "      <th>107408</th>\n",
       "      <td>Peter John Ramos</td>\n",
       "      <td>219.0</td>\n",
       "    </tr>\n",
       "    <tr>\n",
       "      <th>112312</th>\n",
       "      <td>Stanko Barać</td>\n",
       "      <td>217.0</td>\n",
       "    </tr>\n",
       "    <tr>\n",
       "      <th>112332</th>\n",
       "      <td>Andreas Glyniadakis</td>\n",
       "      <td>216.0</td>\n",
       "    </tr>\n",
       "    <tr>\n",
       "      <th>112337</th>\n",
       "      <td>Hamed Haddadi</td>\n",
       "      <td>218.0</td>\n",
       "    </tr>\n",
       "    <tr>\n",
       "      <th>118663</th>\n",
       "      <td>Timofey Mozgov</td>\n",
       "      <td>216.0</td>\n",
       "    </tr>\n",
       "    <tr>\n",
       "      <th>118676</th>\n",
       "      <td>Dmitry Musersky</td>\n",
       "      <td>219.0</td>\n",
       "    </tr>\n",
       "    <tr>\n",
       "      <th>120266</th>\n",
       "      <td>Zhang Zhaoxu</td>\n",
       "      <td>221.0</td>\n",
       "    </tr>\n",
       "    <tr>\n",
       "      <th>121694</th>\n",
       "      <td>Salah Mejri</td>\n",
       "      <td>216.0</td>\n",
       "    </tr>\n",
       "    <tr>\n",
       "      <th>123850</th>\n",
       "      <td>Tyson Chandler</td>\n",
       "      <td>216.0</td>\n",
       "    </tr>\n",
       "    <tr>\n",
       "      <th>130460</th>\n",
       "      <td>Li Muhao</td>\n",
       "      <td>218.0</td>\n",
       "    </tr>\n",
       "    <tr>\n",
       "      <th>130461</th>\n",
       "      <td>Zhou Qi</td>\n",
       "      <td>217.0</td>\n",
       "    </tr>\n",
       "    <tr>\n",
       "      <th>138671</th>\n",
       "      <td>Ondřej Balvín</td>\n",
       "      <td>216.0</td>\n",
       "    </tr>\n",
       "    <tr>\n",
       "      <th>139365</th>\n",
       "      <td>Moustapha Fall</td>\n",
       "      <td>218.0</td>\n",
       "    </tr>\n",
       "  </tbody>\n",
       "</table>\n",
       "</div>"
      ],
      "text/plain": [
       "                         name  height_cm\n",
       "5089       Viktor Pankrashkin      220.0\n",
       "5583     Paulinho Villas Boas      217.0\n",
       "5673           Gunther Behnke      221.0\n",
       "5716                 Uwe Blab      218.0\n",
       "5781           Tommy Burleson      223.0\n",
       "5796            Andy Campbell      218.0\n",
       "6223              Lars Hansen      216.0\n",
       "6270              Hu Zhangbao      216.0\n",
       "6409         Sergey Kovalenko      216.0\n",
       "6420            Jānis Krūmiņš      218.0\n",
       "6504              Luc Longley      220.0\n",
       "6722         Shaquille O'Neal      216.0\n",
       "6937           David Robinson      216.0\n",
       "6978          Arvydas Sabonis      223.0\n",
       "7074           Paulo da Silva      217.0\n",
       "7188       Vladimir Tkachenko      220.0\n",
       "7281         Stojko Vranković      217.0\n",
       "7376      Eurelijus Žukauskas      218.0\n",
       "52608         Aleksey Kazakov      217.0\n",
       "82100           Frédéric Weis      218.0\n",
       "89070                Yao Ming      226.0\n",
       "89075          Roberto Dueñas      221.0\n",
       "107408       Peter John Ramos      219.0\n",
       "112312           Stanko Barać      217.0\n",
       "112332    Andreas Glyniadakis      216.0\n",
       "112337          Hamed Haddadi      218.0\n",
       "118663         Timofey Mozgov      216.0\n",
       "118676        Dmitry Musersky      219.0\n",
       "120266           Zhang Zhaoxu      221.0\n",
       "121694            Salah Mejri      216.0\n",
       "123850         Tyson Chandler      216.0\n",
       "130460               Li Muhao      218.0\n",
       "130461                Zhou Qi      217.0\n",
       "138671          Ondřej Balvín      216.0\n",
       "139365         Moustapha Fall      218.0"
      ]
     },
     "execution_count": 15,
     "metadata": {},
     "output_type": "execute_result"
    }
   ],
   "source": [
    "df.loc[df['height_cm']>215,[\"name\",\"height_cm\"]]"
   ]
  },
  {
   "cell_type": "code",
   "execution_count": null,
   "metadata": {
    "colab": {
     "base_uri": "https://localhost:8080/",
     "height": 1000
    },
    "id": "aR8k6b-aBLcS",
    "outputId": "3272a62b-f89a-4d2c-d7ce-1f7231447903"
   },
   "outputs": [
    {
     "data": {
      "text/html": [
       "<div>\n",
       "<style scoped>\n",
       "    .dataframe tbody tr th:only-of-type {\n",
       "        vertical-align: middle;\n",
       "    }\n",
       "\n",
       "    .dataframe tbody tr th {\n",
       "        vertical-align: top;\n",
       "    }\n",
       "\n",
       "    .dataframe thead th {\n",
       "        text-align: right;\n",
       "    }\n",
       "</style>\n",
       "<table border=\"1\" class=\"dataframe\">\n",
       "  <thead>\n",
       "    <tr style=\"text-align: right;\">\n",
       "      <th></th>\n",
       "      <th>name</th>\n",
       "      <th>height_cm</th>\n",
       "    </tr>\n",
       "  </thead>\n",
       "  <tbody>\n",
       "    <tr>\n",
       "      <th>5089</th>\n",
       "      <td>Viktor Pankrashkin</td>\n",
       "      <td>220.0</td>\n",
       "    </tr>\n",
       "    <tr>\n",
       "      <th>5583</th>\n",
       "      <td>Paulinho Villas Boas</td>\n",
       "      <td>217.0</td>\n",
       "    </tr>\n",
       "    <tr>\n",
       "      <th>5673</th>\n",
       "      <td>Gunther Behnke</td>\n",
       "      <td>221.0</td>\n",
       "    </tr>\n",
       "    <tr>\n",
       "      <th>5716</th>\n",
       "      <td>Uwe Blab</td>\n",
       "      <td>218.0</td>\n",
       "    </tr>\n",
       "    <tr>\n",
       "      <th>5781</th>\n",
       "      <td>Tommy Burleson</td>\n",
       "      <td>223.0</td>\n",
       "    </tr>\n",
       "    <tr>\n",
       "      <th>5796</th>\n",
       "      <td>Andy Campbell</td>\n",
       "      <td>218.0</td>\n",
       "    </tr>\n",
       "    <tr>\n",
       "      <th>6223</th>\n",
       "      <td>Lars Hansen</td>\n",
       "      <td>216.0</td>\n",
       "    </tr>\n",
       "    <tr>\n",
       "      <th>6270</th>\n",
       "      <td>Hu Zhangbao</td>\n",
       "      <td>216.0</td>\n",
       "    </tr>\n",
       "    <tr>\n",
       "      <th>6409</th>\n",
       "      <td>Sergey Kovalenko</td>\n",
       "      <td>216.0</td>\n",
       "    </tr>\n",
       "    <tr>\n",
       "      <th>6420</th>\n",
       "      <td>Jānis Krūmiņš</td>\n",
       "      <td>218.0</td>\n",
       "    </tr>\n",
       "    <tr>\n",
       "      <th>6504</th>\n",
       "      <td>Luc Longley</td>\n",
       "      <td>220.0</td>\n",
       "    </tr>\n",
       "    <tr>\n",
       "      <th>6722</th>\n",
       "      <td>Shaquille O'Neal</td>\n",
       "      <td>216.0</td>\n",
       "    </tr>\n",
       "    <tr>\n",
       "      <th>6937</th>\n",
       "      <td>David Robinson</td>\n",
       "      <td>216.0</td>\n",
       "    </tr>\n",
       "    <tr>\n",
       "      <th>6978</th>\n",
       "      <td>Arvydas Sabonis</td>\n",
       "      <td>223.0</td>\n",
       "    </tr>\n",
       "    <tr>\n",
       "      <th>7074</th>\n",
       "      <td>Paulo da Silva</td>\n",
       "      <td>217.0</td>\n",
       "    </tr>\n",
       "    <tr>\n",
       "      <th>7188</th>\n",
       "      <td>Vladimir Tkachenko</td>\n",
       "      <td>220.0</td>\n",
       "    </tr>\n",
       "    <tr>\n",
       "      <th>7281</th>\n",
       "      <td>Stojko Vranković</td>\n",
       "      <td>217.0</td>\n",
       "    </tr>\n",
       "    <tr>\n",
       "      <th>7376</th>\n",
       "      <td>Eurelijus Žukauskas</td>\n",
       "      <td>218.0</td>\n",
       "    </tr>\n",
       "    <tr>\n",
       "      <th>52608</th>\n",
       "      <td>Aleksey Kazakov</td>\n",
       "      <td>217.0</td>\n",
       "    </tr>\n",
       "    <tr>\n",
       "      <th>82100</th>\n",
       "      <td>Frédéric Weis</td>\n",
       "      <td>218.0</td>\n",
       "    </tr>\n",
       "    <tr>\n",
       "      <th>89070</th>\n",
       "      <td>Yao Ming</td>\n",
       "      <td>226.0</td>\n",
       "    </tr>\n",
       "    <tr>\n",
       "      <th>89075</th>\n",
       "      <td>Roberto Dueñas</td>\n",
       "      <td>221.0</td>\n",
       "    </tr>\n",
       "    <tr>\n",
       "      <th>107408</th>\n",
       "      <td>Peter John Ramos</td>\n",
       "      <td>219.0</td>\n",
       "    </tr>\n",
       "    <tr>\n",
       "      <th>112312</th>\n",
       "      <td>Stanko Barać</td>\n",
       "      <td>217.0</td>\n",
       "    </tr>\n",
       "    <tr>\n",
       "      <th>112332</th>\n",
       "      <td>Andreas Glyniadakis</td>\n",
       "      <td>216.0</td>\n",
       "    </tr>\n",
       "    <tr>\n",
       "      <th>112337</th>\n",
       "      <td>Hamed Haddadi</td>\n",
       "      <td>218.0</td>\n",
       "    </tr>\n",
       "    <tr>\n",
       "      <th>118663</th>\n",
       "      <td>Timofey Mozgov</td>\n",
       "      <td>216.0</td>\n",
       "    </tr>\n",
       "    <tr>\n",
       "      <th>118676</th>\n",
       "      <td>Dmitry Musersky</td>\n",
       "      <td>219.0</td>\n",
       "    </tr>\n",
       "    <tr>\n",
       "      <th>120266</th>\n",
       "      <td>Zhang Zhaoxu</td>\n",
       "      <td>221.0</td>\n",
       "    </tr>\n",
       "    <tr>\n",
       "      <th>121694</th>\n",
       "      <td>Salah Mejri</td>\n",
       "      <td>216.0</td>\n",
       "    </tr>\n",
       "    <tr>\n",
       "      <th>123850</th>\n",
       "      <td>Tyson Chandler</td>\n",
       "      <td>216.0</td>\n",
       "    </tr>\n",
       "    <tr>\n",
       "      <th>130460</th>\n",
       "      <td>Li Muhao</td>\n",
       "      <td>218.0</td>\n",
       "    </tr>\n",
       "    <tr>\n",
       "      <th>130461</th>\n",
       "      <td>Zhou Qi</td>\n",
       "      <td>217.0</td>\n",
       "    </tr>\n",
       "    <tr>\n",
       "      <th>138671</th>\n",
       "      <td>Ondřej Balvín</td>\n",
       "      <td>216.0</td>\n",
       "    </tr>\n",
       "    <tr>\n",
       "      <th>139365</th>\n",
       "      <td>Moustapha Fall</td>\n",
       "      <td>218.0</td>\n",
       "    </tr>\n",
       "  </tbody>\n",
       "</table>\n",
       "</div>"
      ],
      "text/plain": [
       "                         name  height_cm\n",
       "5089       Viktor Pankrashkin      220.0\n",
       "5583     Paulinho Villas Boas      217.0\n",
       "5673           Gunther Behnke      221.0\n",
       "5716                 Uwe Blab      218.0\n",
       "5781           Tommy Burleson      223.0\n",
       "5796            Andy Campbell      218.0\n",
       "6223              Lars Hansen      216.0\n",
       "6270              Hu Zhangbao      216.0\n",
       "6409         Sergey Kovalenko      216.0\n",
       "6420            Jānis Krūmiņš      218.0\n",
       "6504              Luc Longley      220.0\n",
       "6722         Shaquille O'Neal      216.0\n",
       "6937           David Robinson      216.0\n",
       "6978          Arvydas Sabonis      223.0\n",
       "7074           Paulo da Silva      217.0\n",
       "7188       Vladimir Tkachenko      220.0\n",
       "7281         Stojko Vranković      217.0\n",
       "7376      Eurelijus Žukauskas      218.0\n",
       "52608         Aleksey Kazakov      217.0\n",
       "82100           Frédéric Weis      218.0\n",
       "89070                Yao Ming      226.0\n",
       "89075          Roberto Dueñas      221.0\n",
       "107408       Peter John Ramos      219.0\n",
       "112312           Stanko Barać      217.0\n",
       "112332    Andreas Glyniadakis      216.0\n",
       "112337          Hamed Haddadi      218.0\n",
       "118663         Timofey Mozgov      216.0\n",
       "118676        Dmitry Musersky      219.0\n",
       "120266           Zhang Zhaoxu      221.0\n",
       "121694            Salah Mejri      216.0\n",
       "123850         Tyson Chandler      216.0\n",
       "130460               Li Muhao      218.0\n",
       "130461                Zhou Qi      217.0\n",
       "138671          Ondřej Balvín      216.0\n",
       "139365         Moustapha Fall      218.0"
      ]
     },
     "execution_count": 16,
     "metadata": {},
     "output_type": "execute_result"
    }
   ],
   "source": [
    "df[df[\"height_cm\"] > 215][[\"name\", \"height_cm\"]]\n"
   ]
  },
  {
   "cell_type": "markdown",
   "metadata": {
    "id": "krmiSViECNg3"
   },
   "source": [
    "**Add and remove columns**"
   ]
  },
  {
   "cell_type": "code",
   "execution_count": null,
   "metadata": {
    "id": "xchTqyFYCTtz"
   },
   "outputs": [],
   "source": [
    "df[\"bmi\"] = (df[\"weight_kg\"] / df[\"height_cm\"] / 100) ** 2\n"
   ]
  },
  {
   "cell_type": "code",
   "execution_count": null,
   "metadata": {
    "colab": {
     "base_uri": "https://localhost:8080/",
     "height": 206
    },
    "id": "TXf4sfUCDH43",
    "outputId": "f06b3f25-f69f-41d8-deba-80b2092cc244"
   },
   "outputs": [
    {
     "data": {
      "text/html": [
       "<div>\n",
       "<style scoped>\n",
       "    .dataframe tbody tr th:only-of-type {\n",
       "        vertical-align: middle;\n",
       "    }\n",
       "\n",
       "    .dataframe tbody tr th {\n",
       "        vertical-align: top;\n",
       "    }\n",
       "\n",
       "    .dataframe thead th {\n",
       "        text-align: right;\n",
       "    }\n",
       "</style>\n",
       "<table border=\"1\" class=\"dataframe\">\n",
       "  <thead>\n",
       "    <tr style=\"text-align: right;\">\n",
       "      <th></th>\n",
       "      <th>name</th>\n",
       "      <th>bmi</th>\n",
       "    </tr>\n",
       "  </thead>\n",
       "  <tbody>\n",
       "    <tr>\n",
       "      <th>94266</th>\n",
       "      <td>Wang Hui</td>\n",
       "      <td>0.000011</td>\n",
       "    </tr>\n",
       "    <tr>\n",
       "      <th>44577</th>\n",
       "      <td>Alicia Barrancos</td>\n",
       "      <td>NaN</td>\n",
       "    </tr>\n",
       "    <tr>\n",
       "      <th>90081</th>\n",
       "      <td>Eloise Smith</td>\n",
       "      <td>NaN</td>\n",
       "    </tr>\n",
       "    <tr>\n",
       "      <th>39137</th>\n",
       "      <td>Leonel Rêgo</td>\n",
       "      <td>NaN</td>\n",
       "    </tr>\n",
       "    <tr>\n",
       "      <th>2869</th>\n",
       "      <td>Juan Francisco Rodríguez</td>\n",
       "      <td>0.000012</td>\n",
       "    </tr>\n",
       "  </tbody>\n",
       "</table>\n",
       "</div>"
      ],
      "text/plain": [
       "                           name       bmi\n",
       "94266                  Wang Hui  0.000011\n",
       "44577          Alicia Barrancos       NaN\n",
       "90081              Eloise Smith       NaN\n",
       "39137               Leonel Rêgo       NaN\n",
       "2869   Juan Francisco Rodríguez  0.000012"
      ]
     },
     "execution_count": 18,
     "metadata": {},
     "output_type": "execute_result"
    }
   ],
   "source": [
    "df[[\"name\",\"bmi\"]].sample(5)"
   ]
  },
  {
   "cell_type": "markdown",
   "metadata": {
    "id": "1q42AFwVEPhR"
   },
   "source": [
    "**Merging and Concatenate**"
   ]
  },
  {
   "cell_type": "code",
   "execution_count": null,
   "metadata": {
    "colab": {
     "base_uri": "https://localhost:8080/",
     "height": 206
    },
    "id": "YWnkJLDVETIs",
    "outputId": "1183ec53-7013-4ea4-c6e4-bc787bfc921d"
   },
   "outputs": [
    {
     "data": {
      "text/html": [
       "<div>\n",
       "<style scoped>\n",
       "    .dataframe tbody tr th:only-of-type {\n",
       "        vertical-align: middle;\n",
       "    }\n",
       "\n",
       "    .dataframe tbody tr th {\n",
       "        vertical-align: top;\n",
       "    }\n",
       "\n",
       "    .dataframe thead th {\n",
       "        text-align: right;\n",
       "    }\n",
       "</style>\n",
       "<table border=\"1\" class=\"dataframe\">\n",
       "  <thead>\n",
       "    <tr style=\"text-align: right;\">\n",
       "      <th></th>\n",
       "      <th>NOC</th>\n",
       "      <th>region</th>\n",
       "      <th>notes</th>\n",
       "    </tr>\n",
       "  </thead>\n",
       "  <tbody>\n",
       "    <tr>\n",
       "      <th>0</th>\n",
       "      <td>AFG</td>\n",
       "      <td>Afghanistan</td>\n",
       "      <td>NaN</td>\n",
       "    </tr>\n",
       "    <tr>\n",
       "      <th>1</th>\n",
       "      <td>AHO</td>\n",
       "      <td>Curacao</td>\n",
       "      <td>Netherlands Antilles</td>\n",
       "    </tr>\n",
       "    <tr>\n",
       "      <th>2</th>\n",
       "      <td>ALB</td>\n",
       "      <td>Albania</td>\n",
       "      <td>NaN</td>\n",
       "    </tr>\n",
       "    <tr>\n",
       "      <th>3</th>\n",
       "      <td>ALG</td>\n",
       "      <td>Algeria</td>\n",
       "      <td>NaN</td>\n",
       "    </tr>\n",
       "    <tr>\n",
       "      <th>4</th>\n",
       "      <td>AND</td>\n",
       "      <td>Andorra</td>\n",
       "      <td>NaN</td>\n",
       "    </tr>\n",
       "  </tbody>\n",
       "</table>\n",
       "</div>"
      ],
      "text/plain": [
       "   NOC       region                 notes\n",
       "0  AFG  Afghanistan                   NaN\n",
       "1  AHO      Curacao  Netherlands Antilles\n",
       "2  ALB      Albania                   NaN\n",
       "3  ALG      Algeria                   NaN\n",
       "4  AND      Andorra                   NaN"
      ]
     },
     "execution_count": 19,
     "metadata": {},
     "output_type": "execute_result"
    }
   ],
   "source": [
    "noc= pd.read_csv(\"../datasets/noc_regions.csv\")\n",
    "noc_copy = noc.copy()\n",
    "noc.to_csv(\"../datasets/noc_regions_backup.csv\", index=False)\n",
    "noc.head()"
   ]
  },
  {
   "cell_type": "code",
   "execution_count": null,
   "metadata": {
    "colab": {
     "base_uri": "https://localhost:8080/",
     "height": 53
    },
    "id": "Zl0d5w8JE5pb",
    "outputId": "1a04fd6f-b542-4326-9ba1-61f19b1387e1"
   },
   "outputs": [
    {
     "data": {
      "text/html": [
       "<div>\n",
       "<style scoped>\n",
       "    .dataframe tbody tr th:only-of-type {\n",
       "        vertical-align: middle;\n",
       "    }\n",
       "\n",
       "    .dataframe tbody tr th {\n",
       "        vertical-align: top;\n",
       "    }\n",
       "\n",
       "    .dataframe thead th {\n",
       "        text-align: right;\n",
       "    }\n",
       "</style>\n",
       "<table border=\"1\" class=\"dataframe\">\n",
       "  <thead>\n",
       "    <tr style=\"text-align: right;\">\n",
       "      <th></th>\n",
       "      <th>athlete_id</th>\n",
       "      <th>name</th>\n",
       "      <th>born_date</th>\n",
       "      <th>born_city</th>\n",
       "      <th>born_region</th>\n",
       "      <th>born_country</th>\n",
       "      <th>NOC</th>\n",
       "      <th>height_cm</th>\n",
       "      <th>weight_kg</th>\n",
       "      <th>died_date</th>\n",
       "      <th>bmi</th>\n",
       "      <th>region</th>\n",
       "      <th>notes</th>\n",
       "    </tr>\n",
       "  </thead>\n",
       "  <tbody>\n",
       "  </tbody>\n",
       "</table>\n",
       "</div>"
      ],
      "text/plain": [
       "Empty DataFrame\n",
       "Columns: [athlete_id, name, born_date, born_city, born_region, born_country, NOC, height_cm, weight_kg, died_date, bmi, region, notes]\n",
       "Index: []"
      ]
     },
     "execution_count": 20,
     "metadata": {},
     "output_type": "execute_result"
    }
   ],
   "source": [
    "pd.merge(df, noc_copy)"
   ]
  },
  {
   "cell_type": "code",
   "execution_count": null,
   "metadata": {
    "colab": {
     "base_uri": "https://localhost:8080/",
     "height": 206
    },
    "id": "biqAlCgeFI84",
    "outputId": "5f5a607b-f58e-4cfd-faab-5655a6990483"
   },
   "outputs": [
    {
     "data": {
      "text/html": [
       "<div>\n",
       "<style scoped>\n",
       "    .dataframe tbody tr th:only-of-type {\n",
       "        vertical-align: middle;\n",
       "    }\n",
       "\n",
       "    .dataframe tbody tr th {\n",
       "        vertical-align: top;\n",
       "    }\n",
       "\n",
       "    .dataframe thead th {\n",
       "        text-align: right;\n",
       "    }\n",
       "</style>\n",
       "<table border=\"1\" class=\"dataframe\">\n",
       "  <thead>\n",
       "    <tr style=\"text-align: right;\">\n",
       "      <th></th>\n",
       "      <th>NOC</th>\n",
       "      <th>noc</th>\n",
       "      <th>notes</th>\n",
       "    </tr>\n",
       "  </thead>\n",
       "  <tbody>\n",
       "    <tr>\n",
       "      <th>0</th>\n",
       "      <td>AFG</td>\n",
       "      <td>Afghanistan</td>\n",
       "      <td>NaN</td>\n",
       "    </tr>\n",
       "    <tr>\n",
       "      <th>1</th>\n",
       "      <td>AHO</td>\n",
       "      <td>Curacao</td>\n",
       "      <td>Netherlands Antilles</td>\n",
       "    </tr>\n",
       "    <tr>\n",
       "      <th>2</th>\n",
       "      <td>ALB</td>\n",
       "      <td>Albania</td>\n",
       "      <td>NaN</td>\n",
       "    </tr>\n",
       "    <tr>\n",
       "      <th>3</th>\n",
       "      <td>ALG</td>\n",
       "      <td>Algeria</td>\n",
       "      <td>NaN</td>\n",
       "    </tr>\n",
       "    <tr>\n",
       "      <th>4</th>\n",
       "      <td>AND</td>\n",
       "      <td>Andorra</td>\n",
       "      <td>NaN</td>\n",
       "    </tr>\n",
       "  </tbody>\n",
       "</table>\n",
       "</div>"
      ],
      "text/plain": [
       "   NOC          noc                 notes\n",
       "0  AFG  Afghanistan                   NaN\n",
       "1  AHO      Curacao  Netherlands Antilles\n",
       "2  ALB      Albania                   NaN\n",
       "3  ALG      Algeria                   NaN\n",
       "4  AND      Andorra                   NaN"
      ]
     },
     "execution_count": 21,
     "metadata": {},
     "output_type": "execute_result"
    }
   ],
   "source": [
    "noc_copy.rename(columns={\"region\": \"noc\"}, inplace=True)\n",
    "noc_copy.head()"
   ]
  },
  {
   "cell_type": "markdown",
   "metadata": {
    "id": "mie9Yfs9Fcsk"
   },
   "source": [
    "**Handling Null Values**"
   ]
  },
  {
   "cell_type": "code",
   "execution_count": null,
   "metadata": {
    "colab": {
     "base_uri": "https://localhost:8080/",
     "height": 429
    },
    "id": "BQogDFFIFhMD",
    "outputId": "1f8aab52-3bc9-483b-a1fe-d0fb8816585d"
   },
   "outputs": [
    {
     "data": {
      "text/plain": [
       "athlete_id           0\n",
       "name                 0\n",
       "born_date         1807\n",
       "born_city        34592\n",
       "born_region      34592\n",
       "born_country     34592\n",
       "NOC                  1\n",
       "height_cm        38849\n",
       "weight_kg        43430\n",
       "died_date       111560\n",
       "bmi              43430\n",
       "dtype: int64"
      ]
     },
     "execution_count": 22,
     "metadata": {},
     "output_type": "execute_result"
    }
   ],
   "source": [
    "df.isnull().sum()"
   ]
  },
  {
   "cell_type": "code",
   "execution_count": null,
   "metadata": {
    "id": "oODSXDrUFwpX"
   },
   "outputs": [],
   "source": [
    "df['height_cm'] = df['height_cm'].fillna(df['height_cm'].mean())\n"
   ]
  },
  {
   "cell_type": "code",
   "execution_count": null,
   "metadata": {
    "colab": {
     "base_uri": "https://localhost:8080/"
    },
    "id": "MIBMWpKlGmwI",
    "outputId": "5104806f-1bdd-42a2-d531-696702e92043"
   },
   "outputs": [
    {
     "data": {
      "text/plain": [
       "np.int64(0)"
      ]
     },
     "execution_count": 24,
     "metadata": {},
     "output_type": "execute_result"
    }
   ],
   "source": [
    "df[\"height_cm\"].isnull().sum()\n"
   ]
  },
  {
   "cell_type": "code",
   "execution_count": null,
   "metadata": {
    "colab": {
     "base_uri": "https://localhost:8080/",
     "height": 429
    },
    "id": "VJw5bqYvIQNf",
    "outputId": "77b3c85c-46ec-419b-ba21-4ea002ab4740"
   },
   "outputs": [
    {
     "data": {
      "text/plain": [
       "athlete_id           0\n",
       "name                 0\n",
       "born_date         1807\n",
       "born_city        34592\n",
       "born_region      34592\n",
       "born_country     34592\n",
       "NOC                  1\n",
       "height_cm            0\n",
       "weight_kg        43430\n",
       "died_date       111560\n",
       "bmi              43430\n",
       "dtype: int64"
      ]
     },
     "execution_count": 25,
     "metadata": {},
     "output_type": "execute_result"
    }
   ],
   "source": [
    "df.isnull().sum()"
   ]
  },
  {
   "cell_type": "code",
   "execution_count": null,
   "metadata": {
    "colab": {
     "base_uri": "https://localhost:8080/",
     "height": 429
    },
    "id": "_6mc6smoITwB",
    "outputId": "0784a59c-d92c-4728-f29a-03ee4afcfacb"
   },
   "outputs": [
    {
     "data": {
      "text/plain": [
       "athlete_id           0\n",
       "name                 0\n",
       "born_date            0\n",
       "born_city        32848\n",
       "born_region      32848\n",
       "born_country     32848\n",
       "NOC                  1\n",
       "height_cm            0\n",
       "weight_kg        41716\n",
       "died_date       109846\n",
       "bmi              41716\n",
       "dtype: int64"
      ]
     },
     "execution_count": 26,
     "metadata": {},
     "output_type": "execute_result"
    }
   ],
   "source": [
    "df.dropna(subset=[\"born_date\"], inplace=True)\n",
    "df.isnull().sum()\n"
   ]
  },
  {
   "cell_type": "markdown",
   "metadata": {
    "id": "vyiwcylEJWYo"
   },
   "source": [
    "**Aggregation**"
   ]
  },
  {
   "cell_type": "code",
   "execution_count": null,
   "metadata": {
    "colab": {
     "base_uri": "https://localhost:8080/",
     "height": 489
    },
    "id": "J1ETLw0AJZh2",
    "outputId": "20256462-6afc-4acd-9c7a-d9d1eb4954bc"
   },
   "outputs": [
    {
     "data": {
      "text/plain": [
       "born_city\n",
       "Budapest               1378\n",
       "Moskva (Moscow)         883\n",
       "Oslo                    708\n",
       "Stockholm               629\n",
       "Praha (Prague)          600\n",
       "                       ... \n",
       "Pelham                    1\n",
       "Williamsville             1\n",
       "Grosse Pointe Woods       1\n",
       "Mount Shasta              1\n",
       "McHenry                   1\n",
       "Name: count, Length: 22362, dtype: int64"
      ]
     },
     "execution_count": 27,
     "metadata": {},
     "output_type": "execute_result"
    }
   ],
   "source": [
    "df['born_city'].value_counts()"
   ]
  },
  {
   "cell_type": "code",
   "execution_count": null,
   "metadata": {
    "colab": {
     "base_uri": "https://localhost:8080/",
     "height": 1000
    },
    "id": "fDkXZiUcpZYJ",
    "outputId": "a779d0d0-7790-430f-a9df-4234486a25d3"
   },
   "outputs": [
    {
     "data": {
      "text/plain": [
       "born_region\n",
       "California              1634\n",
       "New York                 990\n",
       "Illinois                 585\n",
       "Massachusetts            530\n",
       "Pennsylvania             530\n",
       "New Jersey               381\n",
       "Texas                    368\n",
       "Minnesota                365\n",
       "Ohio                     328\n",
       "Michigan                 319\n",
       "Washington               240\n",
       "Florida                  235\n",
       "Wisconsin                209\n",
       "Colorado                 207\n",
       "Connecticut              156\n",
       "Indiana                  150\n",
       "Oregon                   132\n",
       "Georgia                  129\n",
       "Virginia                 121\n",
       "Maryland                 117\n",
       "District of Columbia     107\n",
       "Iowa                     102\n",
       "Hawaiʻi                   95\n",
       "Kansas                    94\n",
       "Oklahoma                  93\n",
       "Louisiana                 92\n",
       "Utah                      91\n",
       "Missouri                  91\n",
       "North Carolina            86\n",
       "Arizona                   83\n",
       "New Hampshire             83\n",
       "Vermont                   68\n",
       "Mississippi               66\n",
       "Alabama                   64\n",
       "Kentucky                  62\n",
       "Tennessee                 62\n",
       "Nebraska                  60\n",
       "Rhode Island              56\n",
       "Montana                   55\n",
       "Maine                     50\n",
       "South Carolina            50\n",
       "Alaska                    45\n",
       "Arkansas                  42\n",
       "Idaho                     41\n",
       "New Mexico                38\n",
       "Nevada                    36\n",
       "South Dakota              27\n",
       "West Virginia             24\n",
       "Delaware                  22\n",
       "North Dakota              16\n",
       "Wyoming                   14\n",
       "Name: count, dtype: int64"
      ]
     },
     "execution_count": 28,
     "metadata": {},
     "output_type": "execute_result"
    }
   ],
   "source": [
    "df[df['born_country']=='USA']['born_region'].value_counts()"
   ]
  },
  {
   "cell_type": "markdown",
   "metadata": {
    "id": "goC0RYPDqgjs"
   },
   "source": []
  },
  {
   "cell_type": "code",
   "execution_count": null,
   "metadata": {
    "colab": {
     "base_uri": "https://localhost:8080/",
     "height": 423
    },
    "id": "xx8TdR4Vp9tD",
    "outputId": "911d15cd-498a-4644-f7e3-727e78c79953"
   },
   "outputs": [
    {
     "data": {
      "text/html": [
       "<div>\n",
       "<style scoped>\n",
       "    .dataframe tbody tr th:only-of-type {\n",
       "        vertical-align: middle;\n",
       "    }\n",
       "\n",
       "    .dataframe tbody tr th {\n",
       "        vertical-align: top;\n",
       "    }\n",
       "\n",
       "    .dataframe thead th {\n",
       "        text-align: right;\n",
       "    }\n",
       "</style>\n",
       "<table border=\"1\" class=\"dataframe\">\n",
       "  <thead>\n",
       "    <tr style=\"text-align: right;\">\n",
       "      <th></th>\n",
       "      <th>weight_kg</th>\n",
       "      <th>height_cm</th>\n",
       "      <th>bmi</th>\n",
       "    </tr>\n",
       "  </thead>\n",
       "  <tbody>\n",
       "    <tr>\n",
       "      <th>0</th>\n",
       "      <td>25.0</td>\n",
       "      <td>135.0</td>\n",
       "      <td>13.717421</td>\n",
       "    </tr>\n",
       "    <tr>\n",
       "      <th>1</th>\n",
       "      <td>28.0</td>\n",
       "      <td>137.0</td>\n",
       "      <td>14.918216</td>\n",
       "    </tr>\n",
       "    <tr>\n",
       "      <th>2</th>\n",
       "      <td>28.0</td>\n",
       "      <td>141.0</td>\n",
       "      <td>14.083799</td>\n",
       "    </tr>\n",
       "    <tr>\n",
       "      <th>3</th>\n",
       "      <td>28.0</td>\n",
       "      <td>142.0</td>\n",
       "      <td>13.886134</td>\n",
       "    </tr>\n",
       "    <tr>\n",
       "      <th>4</th>\n",
       "      <td>30.0</td>\n",
       "      <td>136.0</td>\n",
       "      <td>16.219723</td>\n",
       "    </tr>\n",
       "    <tr>\n",
       "      <th>...</th>\n",
       "      <td>...</td>\n",
       "      <td>...</td>\n",
       "      <td>...</td>\n",
       "    </tr>\n",
       "    <tr>\n",
       "      <th>3563</th>\n",
       "      <td>178.0</td>\n",
       "      <td>187.0</td>\n",
       "      <td>50.902228</td>\n",
       "    </tr>\n",
       "    <tr>\n",
       "      <th>3564</th>\n",
       "      <td>180.0</td>\n",
       "      <td>187.0</td>\n",
       "      <td>51.474163</td>\n",
       "    </tr>\n",
       "    <tr>\n",
       "      <th>3565</th>\n",
       "      <td>182.0</td>\n",
       "      <td>196.0</td>\n",
       "      <td>47.376093</td>\n",
       "    </tr>\n",
       "    <tr>\n",
       "      <th>3566</th>\n",
       "      <td>190.0</td>\n",
       "      <td>200.0</td>\n",
       "      <td>47.500000</td>\n",
       "    </tr>\n",
       "    <tr>\n",
       "      <th>3567</th>\n",
       "      <td>198.0</td>\n",
       "      <td>200.0</td>\n",
       "      <td>49.500000</td>\n",
       "    </tr>\n",
       "  </tbody>\n",
       "</table>\n",
       "<p>3568 rows × 3 columns</p>\n",
       "</div>"
      ],
      "text/plain": [
       "      weight_kg  height_cm        bmi\n",
       "0          25.0      135.0  13.717421\n",
       "1          28.0      137.0  14.918216\n",
       "2          28.0      141.0  14.083799\n",
       "3          28.0      142.0  13.886134\n",
       "4          30.0      136.0  16.219723\n",
       "...         ...        ...        ...\n",
       "3563      178.0      187.0  50.902228\n",
       "3564      180.0      187.0  51.474163\n",
       "3565      182.0      196.0  47.376093\n",
       "3566      190.0      200.0  47.500000\n",
       "3567      198.0      200.0  49.500000\n",
       "\n",
       "[3568 rows x 3 columns]"
      ]
     },
     "execution_count": 29,
     "metadata": {},
     "output_type": "execute_result"
    }
   ],
   "source": [
    "# Calculate BMI for each row\n",
    "df['bmi'] = df['weight_kg'] / (df['height_cm']/100)**2\n",
    "\n",
    "# Group by weight and height, then get average BMI or count\n",
    "df.groupby(['weight_kg', 'height_cm'])['bmi'].mean().reset_index()\n"
   ]
  },
  {
   "cell_type": "code",
   "execution_count": null,
   "metadata": {
    "colab": {
     "base_uri": "https://localhost:8080/",
     "height": 455
    },
    "id": "5z3mNgx_rB0n",
    "outputId": "b0f5a2d4-0431-4b94-acb6-7f18e4e0561b"
   },
   "outputs": [
    {
     "data": {
      "text/html": [
       "<div>\n",
       "<style scoped>\n",
       "    .dataframe tbody tr th:only-of-type {\n",
       "        vertical-align: middle;\n",
       "    }\n",
       "\n",
       "    .dataframe tbody tr th {\n",
       "        vertical-align: top;\n",
       "    }\n",
       "\n",
       "    .dataframe thead th {\n",
       "        text-align: right;\n",
       "    }\n",
       "</style>\n",
       "<table border=\"1\" class=\"dataframe\">\n",
       "  <thead>\n",
       "    <tr style=\"text-align: right;\">\n",
       "      <th></th>\n",
       "      <th>height_cm</th>\n",
       "    </tr>\n",
       "    <tr>\n",
       "      <th>born_country</th>\n",
       "      <th></th>\n",
       "    </tr>\n",
       "  </thead>\n",
       "  <tbody>\n",
       "    <tr>\n",
       "      <th>AFG</th>\n",
       "      <td>170.653349</td>\n",
       "    </tr>\n",
       "    <tr>\n",
       "      <th>AGU</th>\n",
       "      <td>181.166862</td>\n",
       "    </tr>\n",
       "    <tr>\n",
       "      <th>ALB</th>\n",
       "      <td>174.918579</td>\n",
       "    </tr>\n",
       "    <tr>\n",
       "      <th>ALG</th>\n",
       "      <td>176.457707</td>\n",
       "    </tr>\n",
       "    <tr>\n",
       "      <th>AND</th>\n",
       "      <td>172.783847</td>\n",
       "    </tr>\n",
       "    <tr>\n",
       "      <th>...</th>\n",
       "      <td>...</td>\n",
       "    </tr>\n",
       "    <tr>\n",
       "      <th>VIN</th>\n",
       "      <td>179.375147</td>\n",
       "    </tr>\n",
       "    <tr>\n",
       "      <th>Vienna</th>\n",
       "      <td>174.879072</td>\n",
       "    </tr>\n",
       "    <tr>\n",
       "      <th>YEM</th>\n",
       "      <td>169.000000</td>\n",
       "    </tr>\n",
       "    <tr>\n",
       "      <th>ZAM</th>\n",
       "      <td>173.781323</td>\n",
       "    </tr>\n",
       "    <tr>\n",
       "      <th>ZIM</th>\n",
       "      <td>173.722767</td>\n",
       "    </tr>\n",
       "  </tbody>\n",
       "</table>\n",
       "<p>236 rows × 1 columns</p>\n",
       "</div>"
      ],
      "text/plain": [
       "               height_cm\n",
       "born_country            \n",
       "AFG           170.653349\n",
       "AGU           181.166862\n",
       "ALB           174.918579\n",
       "ALG           176.457707\n",
       "AND           172.783847\n",
       "...                  ...\n",
       "VIN           179.375147\n",
       "Vienna        174.879072\n",
       "YEM           169.000000\n",
       "ZAM           173.781323\n",
       "ZIM           173.722767\n",
       "\n",
       "[236 rows x 1 columns]"
      ]
     },
     "execution_count": 30,
     "metadata": {},
     "output_type": "execute_result"
    }
   ],
   "source": [
    "df.groupby(['born_country']).agg({'height_cm': 'mean'})\n"
   ]
  },
  {
   "cell_type": "code",
   "execution_count": null,
   "metadata": {
    "colab": {
     "base_uri": "https://localhost:8080/",
     "height": 206
    },
    "id": "FlPtcVx1rl89",
    "outputId": "17fa099e-58d6-4d36-fe1d-22501a60b757"
   },
   "outputs": [
    {
     "data": {
      "text/html": [
       "<div>\n",
       "<style scoped>\n",
       "    .dataframe tbody tr th:only-of-type {\n",
       "        vertical-align: middle;\n",
       "    }\n",
       "\n",
       "    .dataframe tbody tr th {\n",
       "        vertical-align: top;\n",
       "    }\n",
       "\n",
       "    .dataframe thead th {\n",
       "        text-align: right;\n",
       "    }\n",
       "</style>\n",
       "<table border=\"1\" class=\"dataframe\">\n",
       "  <thead>\n",
       "    <tr style=\"text-align: right;\">\n",
       "      <th></th>\n",
       "      <th>athlete_id</th>\n",
       "      <th>name</th>\n",
       "      <th>born_date</th>\n",
       "      <th>born_city</th>\n",
       "      <th>born_region</th>\n",
       "      <th>born_country</th>\n",
       "      <th>NOC</th>\n",
       "      <th>height_cm</th>\n",
       "      <th>weight_kg</th>\n",
       "      <th>died_date</th>\n",
       "      <th>bmi</th>\n",
       "      <th>new_height</th>\n",
       "    </tr>\n",
       "  </thead>\n",
       "  <tbody>\n",
       "    <tr>\n",
       "      <th>0</th>\n",
       "      <td>1</td>\n",
       "      <td>Jean-François Blanchy</td>\n",
       "      <td>1886-12-12</td>\n",
       "      <td>Bordeaux</td>\n",
       "      <td>Gironde</td>\n",
       "      <td>FRA</td>\n",
       "      <td>France</td>\n",
       "      <td>176.333724</td>\n",
       "      <td>NaN</td>\n",
       "      <td>1960-10-02</td>\n",
       "      <td>NaN</td>\n",
       "      <td>NaN</td>\n",
       "    </tr>\n",
       "    <tr>\n",
       "      <th>1</th>\n",
       "      <td>2</td>\n",
       "      <td>Arnaud Boetsch</td>\n",
       "      <td>1969-04-01</td>\n",
       "      <td>Meulan</td>\n",
       "      <td>Yvelines</td>\n",
       "      <td>FRA</td>\n",
       "      <td>France</td>\n",
       "      <td>183.000000</td>\n",
       "      <td>76.0</td>\n",
       "      <td>NaN</td>\n",
       "      <td>22.694019</td>\n",
       "      <td>NaN</td>\n",
       "    </tr>\n",
       "    <tr>\n",
       "      <th>2</th>\n",
       "      <td>3</td>\n",
       "      <td>Jean Borotra</td>\n",
       "      <td>1898-08-13</td>\n",
       "      <td>Biarritz</td>\n",
       "      <td>Pyrénées-Atlantiques</td>\n",
       "      <td>FRA</td>\n",
       "      <td>France</td>\n",
       "      <td>183.000000</td>\n",
       "      <td>76.0</td>\n",
       "      <td>1994-07-17</td>\n",
       "      <td>22.694019</td>\n",
       "      <td>176.333724</td>\n",
       "    </tr>\n",
       "    <tr>\n",
       "      <th>3</th>\n",
       "      <td>4</td>\n",
       "      <td>Jacques Brugnon</td>\n",
       "      <td>1895-05-11</td>\n",
       "      <td>Paris VIIIe</td>\n",
       "      <td>Paris</td>\n",
       "      <td>FRA</td>\n",
       "      <td>France</td>\n",
       "      <td>168.000000</td>\n",
       "      <td>64.0</td>\n",
       "      <td>1978-03-20</td>\n",
       "      <td>22.675737</td>\n",
       "      <td>183.000000</td>\n",
       "    </tr>\n",
       "    <tr>\n",
       "      <th>4</th>\n",
       "      <td>5</td>\n",
       "      <td>Albert Canet</td>\n",
       "      <td>1878-04-17</td>\n",
       "      <td>Wandsworth</td>\n",
       "      <td>England</td>\n",
       "      <td>GBR</td>\n",
       "      <td>France</td>\n",
       "      <td>176.333724</td>\n",
       "      <td>NaN</td>\n",
       "      <td>1930-07-25</td>\n",
       "      <td>NaN</td>\n",
       "      <td>183.000000</td>\n",
       "    </tr>\n",
       "  </tbody>\n",
       "</table>\n",
       "</div>"
      ],
      "text/plain": [
       "   athlete_id                   name   born_date    born_city  \\\n",
       "0           1  Jean-François Blanchy  1886-12-12     Bordeaux   \n",
       "1           2         Arnaud Boetsch  1969-04-01       Meulan   \n",
       "2           3           Jean Borotra  1898-08-13     Biarritz   \n",
       "3           4        Jacques Brugnon  1895-05-11  Paris VIIIe   \n",
       "4           5           Albert Canet  1878-04-17   Wandsworth   \n",
       "\n",
       "            born_region born_country     NOC   height_cm  weight_kg  \\\n",
       "0               Gironde          FRA  France  176.333724        NaN   \n",
       "1              Yvelines          FRA  France  183.000000       76.0   \n",
       "2  Pyrénées-Atlantiques          FRA  France  183.000000       76.0   \n",
       "3                 Paris          FRA  France  168.000000       64.0   \n",
       "4               England          GBR  France  176.333724        NaN   \n",
       "\n",
       "    died_date        bmi  new_height  \n",
       "0  1960-10-02        NaN         NaN  \n",
       "1         NaN  22.694019         NaN  \n",
       "2  1994-07-17  22.694019  176.333724  \n",
       "3  1978-03-20  22.675737  183.000000  \n",
       "4  1930-07-25        NaN  183.000000  "
      ]
     },
     "execution_count": 31,
     "metadata": {},
     "output_type": "execute_result"
    }
   ],
   "source": [
    "df['new_height']=df['height_cm'].shift(2)\n",
    "df.head()"
   ]
  },
  {
   "cell_type": "code",
   "execution_count": null,
   "metadata": {
    "colab": {
     "base_uri": "https://localhost:8080/",
     "height": 206
    },
    "id": "yF1Of7WysQFP",
    "outputId": "6af3a360-9f1f-4c1f-80bd-ae66423f338a"
   },
   "outputs": [
    {
     "data": {
      "text/html": [
       "<div>\n",
       "<style scoped>\n",
       "    .dataframe tbody tr th:only-of-type {\n",
       "        vertical-align: middle;\n",
       "    }\n",
       "\n",
       "    .dataframe tbody tr th {\n",
       "        vertical-align: top;\n",
       "    }\n",
       "\n",
       "    .dataframe thead th {\n",
       "        text-align: right;\n",
       "    }\n",
       "</style>\n",
       "<table border=\"1\" class=\"dataframe\">\n",
       "  <thead>\n",
       "    <tr style=\"text-align: right;\">\n",
       "      <th></th>\n",
       "      <th>athlete_id</th>\n",
       "      <th>name</th>\n",
       "      <th>born_date</th>\n",
       "      <th>born_city</th>\n",
       "      <th>born_region</th>\n",
       "      <th>born_country</th>\n",
       "      <th>NOC</th>\n",
       "      <th>height_cm</th>\n",
       "      <th>weight_kg</th>\n",
       "      <th>died_date</th>\n",
       "      <th>bmi</th>\n",
       "      <th>new_height</th>\n",
       "      <th>height_rank</th>\n",
       "    </tr>\n",
       "  </thead>\n",
       "  <tbody>\n",
       "    <tr>\n",
       "      <th>0</th>\n",
       "      <td>1</td>\n",
       "      <td>Jean-François Blanchy</td>\n",
       "      <td>1886-12-12</td>\n",
       "      <td>Bordeaux</td>\n",
       "      <td>Gironde</td>\n",
       "      <td>FRA</td>\n",
       "      <td>France</td>\n",
       "      <td>176.333724</td>\n",
       "      <td>NaN</td>\n",
       "      <td>1960-10-02</td>\n",
       "      <td>NaN</td>\n",
       "      <td>NaN</td>\n",
       "      <td>70896.5</td>\n",
       "    </tr>\n",
       "    <tr>\n",
       "      <th>1</th>\n",
       "      <td>2</td>\n",
       "      <td>Arnaud Boetsch</td>\n",
       "      <td>1969-04-01</td>\n",
       "      <td>Meulan</td>\n",
       "      <td>Yvelines</td>\n",
       "      <td>FRA</td>\n",
       "      <td>France</td>\n",
       "      <td>183.000000</td>\n",
       "      <td>76.0</td>\n",
       "      <td>NaN</td>\n",
       "      <td>22.694019</td>\n",
       "      <td>NaN</td>\n",
       "      <td>27592.5</td>\n",
       "    </tr>\n",
       "    <tr>\n",
       "      <th>2</th>\n",
       "      <td>3</td>\n",
       "      <td>Jean Borotra</td>\n",
       "      <td>1898-08-13</td>\n",
       "      <td>Biarritz</td>\n",
       "      <td>Pyrénées-Atlantiques</td>\n",
       "      <td>FRA</td>\n",
       "      <td>France</td>\n",
       "      <td>183.000000</td>\n",
       "      <td>76.0</td>\n",
       "      <td>1994-07-17</td>\n",
       "      <td>22.694019</td>\n",
       "      <td>176.333724</td>\n",
       "      <td>27592.5</td>\n",
       "    </tr>\n",
       "    <tr>\n",
       "      <th>3</th>\n",
       "      <td>4</td>\n",
       "      <td>Jacques Brugnon</td>\n",
       "      <td>1895-05-11</td>\n",
       "      <td>Paris VIIIe</td>\n",
       "      <td>Paris</td>\n",
       "      <td>FRA</td>\n",
       "      <td>France</td>\n",
       "      <td>168.000000</td>\n",
       "      <td>64.0</td>\n",
       "      <td>1978-03-20</td>\n",
       "      <td>22.675737</td>\n",
       "      <td>183.000000</td>\n",
       "      <td>121049.5</td>\n",
       "    </tr>\n",
       "    <tr>\n",
       "      <th>4</th>\n",
       "      <td>5</td>\n",
       "      <td>Albert Canet</td>\n",
       "      <td>1878-04-17</td>\n",
       "      <td>Wandsworth</td>\n",
       "      <td>England</td>\n",
       "      <td>GBR</td>\n",
       "      <td>France</td>\n",
       "      <td>176.333724</td>\n",
       "      <td>NaN</td>\n",
       "      <td>1930-07-25</td>\n",
       "      <td>NaN</td>\n",
       "      <td>183.000000</td>\n",
       "      <td>70896.5</td>\n",
       "    </tr>\n",
       "  </tbody>\n",
       "</table>\n",
       "</div>"
      ],
      "text/plain": [
       "   athlete_id                   name   born_date    born_city  \\\n",
       "0           1  Jean-François Blanchy  1886-12-12     Bordeaux   \n",
       "1           2         Arnaud Boetsch  1969-04-01       Meulan   \n",
       "2           3           Jean Borotra  1898-08-13     Biarritz   \n",
       "3           4        Jacques Brugnon  1895-05-11  Paris VIIIe   \n",
       "4           5           Albert Canet  1878-04-17   Wandsworth   \n",
       "\n",
       "            born_region born_country     NOC   height_cm  weight_kg  \\\n",
       "0               Gironde          FRA  France  176.333724        NaN   \n",
       "1              Yvelines          FRA  France  183.000000       76.0   \n",
       "2  Pyrénées-Atlantiques          FRA  France  183.000000       76.0   \n",
       "3                 Paris          FRA  France  168.000000       64.0   \n",
       "4               England          GBR  France  176.333724        NaN   \n",
       "\n",
       "    died_date        bmi  new_height  height_rank  \n",
       "0  1960-10-02        NaN         NaN      70896.5  \n",
       "1         NaN  22.694019         NaN      27592.5  \n",
       "2  1994-07-17  22.694019  176.333724      27592.5  \n",
       "3  1978-03-20  22.675737  183.000000     121049.5  \n",
       "4  1930-07-25        NaN  183.000000      70896.5  "
      ]
     },
     "execution_count": 32,
     "metadata": {},
     "output_type": "execute_result"
    }
   ],
   "source": [
    "df['height_rank']=df['height_cm'].rank(ascending=False)\n",
    "df.head()"
   ]
  },
  {
   "cell_type": "code",
   "execution_count": null,
   "metadata": {
    "id": "8WntC1mpsq4S"
   },
   "outputs": [],
   "source": []
  }
 ],
 "metadata": {
  "colab": {
   "provenance": []
  },
  "kernelspec": {
   "display_name": "Python 3 (ipykernel)",
   "language": "python",
   "name": "python3"
  },
  "language_info": {
   "codemirror_mode": {
    "name": "ipython",
    "version": 3
   },
   "file_extension": ".py",
   "mimetype": "text/x-python",
   "name": "python",
   "nbconvert_exporter": "python",
   "pygments_lexer": "ipython3",
   "version": "3.10.11"
  }
 },
 "nbformat": 4,
 "nbformat_minor": 4
}
